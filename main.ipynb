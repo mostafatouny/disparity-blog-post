{
 "cells": [
  {
   "cell_type": "markdown",
   "metadata": {
    "slideshow": {
     "slide_type": "-"
    }
   },
   "source": [
    "### Import Libraries and Local Files"
   ]
  },
  {
   "cell_type": "code",
   "execution_count": 3,
   "metadata": {},
   "outputs": [],
   "source": [
    "# 3rd-party libraries\n",
    "import numpy as np\n",
    "import pandas as pd\n",
    "import matplotlib.pyplot as plt\n",
    "# local-files\n",
    "import jsonRW as jsRW\n",
    "import graphs.pie as pieGraph\n",
    "import graphs.categoricalHeatmap as categoricalHeatmapGraph\n",
    "import graphs.groupedBars as groupedBarsGraph\n",
    "import graphs.histogramPdf as histogramPdfGraph\n",
    "import transformations.transformations as transform\n",
    "import transformations.discretizeIntoCategories as discIntCat\n",
    "import statTests.permutationTest as permTest"
   ]
  },
  {
   "cell_type": "markdown",
   "metadata": {},
   "source": [
    "___"
   ]
  },
  {
   "cell_type": "markdown",
   "metadata": {},
   "source": [
    "## Read Data"
   ]
  },
  {
   "cell_type": "markdown",
   "metadata": {},
   "source": [
    "### Read Local JSON Data Into a Pandas Dataframe"
   ]
  },
  {
   "cell_type": "code",
   "execution_count": 4,
   "metadata": {},
   "outputs": [],
   "source": [
    "# a map from each platform to its corresponding dataframe\n",
    "platform_df = {}\n",
    "# platform names and their corresonding data file names\n",
    "platformsNames = ['ps4', 'xbox', 'switch', 'pc']\n",
    "filesNames = ['ps4.csv', 'xbox.csv', 'switch.csv', 'pc.csv']\n",
    "\n",
    "# for each platform, then \n",
    "for name in platformsNames:\n",
    "    # read its local json file\n",
    "    metacritic_list = jsRW.readJson(name)\n",
    "    # parse it as pandas dataframe, then map platform name to it\n",
    "    platform_df[name] = pd.DataFrame(metacritic_list)"
   ]
  },
  {
   "cell_type": "code",
   "execution_count": 5,
   "metadata": {},
   "outputs": [
    {
     "data": {
      "text/html": [
       "<div>\n",
       "<style scoped>\n",
       "    .dataframe tbody tr th:only-of-type {\n",
       "        vertical-align: middle;\n",
       "    }\n",
       "\n",
       "    .dataframe tbody tr th {\n",
       "        vertical-align: top;\n",
       "    }\n",
       "\n",
       "    .dataframe thead th {\n",
       "        text-align: right;\n",
       "    }\n",
       "</style>\n",
       "<table border=\"1\" class=\"dataframe\">\n",
       "  <thead>\n",
       "    <tr style=\"text-align: right;\">\n",
       "      <th></th>\n",
       "      <th>critic_rating</th>\n",
       "      <th>id</th>\n",
       "      <th>release_date</th>\n",
       "      <th>title</th>\n",
       "      <th>user_rating</th>\n",
       "    </tr>\n",
       "  </thead>\n",
       "  <tbody>\n",
       "    <tr>\n",
       "      <th>0</th>\n",
       "      <td>91</td>\n",
       "      <td>1</td>\n",
       "      <td>Jul  2, 2019</td>\n",
       "      <td>final fantasy xiv: shadowbringers</td>\n",
       "      <td>8.3</td>\n",
       "    </tr>\n",
       "    <tr>\n",
       "      <th>1</th>\n",
       "      <td>91</td>\n",
       "      <td>2</td>\n",
       "      <td>Feb 26, 2019</td>\n",
       "      <td>nier: automata - game of the yorha edition</td>\n",
       "      <td>8.5</td>\n",
       "    </tr>\n",
       "    <tr>\n",
       "      <th>2</th>\n",
       "      <td>91</td>\n",
       "      <td>3</td>\n",
       "      <td>Jan 25, 2019</td>\n",
       "      <td>resident evil 2</td>\n",
       "      <td>8.8</td>\n",
       "    </tr>\n",
       "    <tr>\n",
       "      <th>3</th>\n",
       "      <td>90</td>\n",
       "      <td>4</td>\n",
       "      <td>Mar 22, 2019</td>\n",
       "      <td>sekiro: shadows die twice</td>\n",
       "      <td>7.9</td>\n",
       "    </tr>\n",
       "    <tr>\n",
       "      <th>4</th>\n",
       "      <td>89</td>\n",
       "      <td>5</td>\n",
       "      <td>Sep  6, 2019</td>\n",
       "      <td>monster hunter: world - iceborne</td>\n",
       "      <td>8.4</td>\n",
       "    </tr>\n",
       "    <tr>\n",
       "      <th>...</th>\n",
       "      <td>...</td>\n",
       "      <td>...</td>\n",
       "      <td>...</td>\n",
       "      <td>...</td>\n",
       "      <td>...</td>\n",
       "    </tr>\n",
       "    <tr>\n",
       "      <th>335</th>\n",
       "      <td>39</td>\n",
       "      <td>336</td>\n",
       "      <td>Oct 15, 2019</td>\n",
       "      <td>zombieland: double tap - road trip</td>\n",
       "      <td>4.6</td>\n",
       "    </tr>\n",
       "    <tr>\n",
       "      <th>336</th>\n",
       "      <td>37</td>\n",
       "      <td>337</td>\n",
       "      <td>Mar  5, 2019</td>\n",
       "      <td>left alive</td>\n",
       "      <td>8.3</td>\n",
       "    </tr>\n",
       "    <tr>\n",
       "      <th>337</th>\n",
       "      <td>36</td>\n",
       "      <td>338</td>\n",
       "      <td>Mar  5, 2019</td>\n",
       "      <td>eternity: the last unicorn</td>\n",
       "      <td>3.8</td>\n",
       "    </tr>\n",
       "    <tr>\n",
       "      <th>338</th>\n",
       "      <td>31</td>\n",
       "      <td>339</td>\n",
       "      <td>May 30, 2019</td>\n",
       "      <td>dayz</td>\n",
       "      <td>2.8</td>\n",
       "    </tr>\n",
       "    <tr>\n",
       "      <th>339</th>\n",
       "      <td>31</td>\n",
       "      <td>340</td>\n",
       "      <td>Mar 29, 2019</td>\n",
       "      <td>where the bees make honey</td>\n",
       "      <td>3.2</td>\n",
       "    </tr>\n",
       "  </tbody>\n",
       "</table>\n",
       "<p>340 rows × 5 columns</p>\n",
       "</div>"
      ],
      "text/plain": [
       "    critic_rating   id  release_date  \\\n",
       "0              91    1  Jul  2, 2019   \n",
       "1              91    2  Feb 26, 2019   \n",
       "2              91    3  Jan 25, 2019   \n",
       "3              90    4  Mar 22, 2019   \n",
       "4              89    5  Sep  6, 2019   \n",
       "..            ...  ...           ...   \n",
       "335            39  336  Oct 15, 2019   \n",
       "336            37  337  Mar  5, 2019   \n",
       "337            36  338  Mar  5, 2019   \n",
       "338            31  339  May 30, 2019   \n",
       "339            31  340  Mar 29, 2019   \n",
       "\n",
       "                                          title user_rating  \n",
       "0             final fantasy xiv: shadowbringers         8.3  \n",
       "1    nier: automata - game of the yorha edition         8.5  \n",
       "2                               resident evil 2         8.8  \n",
       "3                     sekiro: shadows die twice         7.9  \n",
       "4              monster hunter: world - iceborne         8.4  \n",
       "..                                          ...         ...  \n",
       "335          zombieland: double tap - road trip         4.6  \n",
       "336                                  left alive         8.3  \n",
       "337                  eternity: the last unicorn         3.8  \n",
       "338                                        dayz         2.8  \n",
       "339                   where the bees make honey         3.2  \n",
       "\n",
       "[340 rows x 5 columns]"
      ]
     },
     "execution_count": 5,
     "metadata": {},
     "output_type": "execute_result"
    }
   ],
   "source": [
    "# take a look at a dataframe\n",
    "platform_df['ps4']"
   ]
  },
  {
   "cell_type": "markdown",
   "metadata": {},
   "source": [
    "___"
   ]
  },
  {
   "cell_type": "markdown",
   "metadata": {},
   "source": [
    "## Data Cleansing"
   ]
  },
  {
   "cell_type": "code",
   "execution_count": 6,
   "metadata": {},
   "outputs": [],
   "source": [
    "# drop unneeded columns and re-organize them \n",
    "for name in platformsNames:\n",
    "    platform_df[name] = platform_df[name][['title', 'user_rating', 'critic_rating']]"
   ]
  },
  {
   "cell_type": "code",
   "execution_count": 7,
   "metadata": {},
   "outputs": [
    {
     "data": {
      "text/html": [
       "<div>\n",
       "<style scoped>\n",
       "    .dataframe tbody tr th:only-of-type {\n",
       "        vertical-align: middle;\n",
       "    }\n",
       "\n",
       "    .dataframe tbody tr th {\n",
       "        vertical-align: top;\n",
       "    }\n",
       "\n",
       "    .dataframe thead th {\n",
       "        text-align: right;\n",
       "    }\n",
       "</style>\n",
       "<table border=\"1\" class=\"dataframe\">\n",
       "  <thead>\n",
       "    <tr style=\"text-align: right;\">\n",
       "      <th></th>\n",
       "      <th>title</th>\n",
       "      <th>user_rating</th>\n",
       "      <th>critic_rating</th>\n",
       "    </tr>\n",
       "  </thead>\n",
       "  <tbody>\n",
       "    <tr>\n",
       "      <th>0</th>\n",
       "      <td>final fantasy xiv: shadowbringers</td>\n",
       "      <td>8.3</td>\n",
       "      <td>91</td>\n",
       "    </tr>\n",
       "    <tr>\n",
       "      <th>1</th>\n",
       "      <td>nier: automata - game of the yorha edition</td>\n",
       "      <td>8.5</td>\n",
       "      <td>91</td>\n",
       "    </tr>\n",
       "    <tr>\n",
       "      <th>2</th>\n",
       "      <td>resident evil 2</td>\n",
       "      <td>8.8</td>\n",
       "      <td>91</td>\n",
       "    </tr>\n",
       "    <tr>\n",
       "      <th>3</th>\n",
       "      <td>sekiro: shadows die twice</td>\n",
       "      <td>7.9</td>\n",
       "      <td>90</td>\n",
       "    </tr>\n",
       "    <tr>\n",
       "      <th>4</th>\n",
       "      <td>monster hunter: world - iceborne</td>\n",
       "      <td>8.4</td>\n",
       "      <td>89</td>\n",
       "    </tr>\n",
       "    <tr>\n",
       "      <th>...</th>\n",
       "      <td>...</td>\n",
       "      <td>...</td>\n",
       "      <td>...</td>\n",
       "    </tr>\n",
       "    <tr>\n",
       "      <th>335</th>\n",
       "      <td>zombieland: double tap - road trip</td>\n",
       "      <td>4.6</td>\n",
       "      <td>39</td>\n",
       "    </tr>\n",
       "    <tr>\n",
       "      <th>336</th>\n",
       "      <td>left alive</td>\n",
       "      <td>8.3</td>\n",
       "      <td>37</td>\n",
       "    </tr>\n",
       "    <tr>\n",
       "      <th>337</th>\n",
       "      <td>eternity: the last unicorn</td>\n",
       "      <td>3.8</td>\n",
       "      <td>36</td>\n",
       "    </tr>\n",
       "    <tr>\n",
       "      <th>338</th>\n",
       "      <td>dayz</td>\n",
       "      <td>2.8</td>\n",
       "      <td>31</td>\n",
       "    </tr>\n",
       "    <tr>\n",
       "      <th>339</th>\n",
       "      <td>where the bees make honey</td>\n",
       "      <td>3.2</td>\n",
       "      <td>31</td>\n",
       "    </tr>\n",
       "  </tbody>\n",
       "</table>\n",
       "<p>340 rows × 3 columns</p>\n",
       "</div>"
      ],
      "text/plain": [
       "                                          title user_rating critic_rating\n",
       "0             final fantasy xiv: shadowbringers         8.3            91\n",
       "1    nier: automata - game of the yorha edition         8.5            91\n",
       "2                               resident evil 2         8.8            91\n",
       "3                     sekiro: shadows die twice         7.9            90\n",
       "4              monster hunter: world - iceborne         8.4            89\n",
       "..                                          ...         ...           ...\n",
       "335          zombieland: double tap - road trip         4.6            39\n",
       "336                                  left alive         8.3            37\n",
       "337                  eternity: the last unicorn         3.8            36\n",
       "338                                        dayz         2.8            31\n",
       "339                   where the bees make honey         3.2            31\n",
       "\n",
       "[340 rows x 3 columns]"
      ]
     },
     "execution_count": 7,
     "metadata": {},
     "output_type": "execute_result"
    }
   ],
   "source": [
    "# take a look at a dataframe, again\n",
    "platform_df['ps4']"
   ]
  },
  {
   "cell_type": "markdown",
   "metadata": {},
   "source": [
    "#### remarks\n",
    "- user_rating must be on the same scale as critic_rating\n",
    "- data types need to be checked"
   ]
  },
  {
   "cell_type": "code",
   "execution_count": 8,
   "metadata": {},
   "outputs": [
    {
     "data": {
      "text/plain": [
       "title            object\n",
       "user_rating      object\n",
       "critic_rating    object\n",
       "dtype: object"
      ]
     },
     "execution_count": 8,
     "metadata": {},
     "output_type": "execute_result"
    }
   ],
   "source": [
    "# check columns data types\n",
    "platform_df['ps4'].dtypes"
   ]
  },
  {
   "cell_type": "code",
   "execution_count": 9,
   "metadata": {},
   "outputs": [],
   "source": [
    "# convert ratings into a numeric value\n",
    "#      error ahead!\n",
    "#df['user_rating'] = pd.to_numeric(df['user_rating'])\n",
    "#df['critic_rating'] = pd.to_numeric(df['critic_rating'])"
   ]
  },
  {
   "cell_type": "code",
   "execution_count": 10,
   "metadata": {},
   "outputs": [],
   "source": [
    "# get rid of user_rating with value equal to \"tbd\"\n",
    "\n",
    "# for each platform\n",
    "for name in platformsNames:\n",
    "    # get its dataframe\n",
    "    df = platform_df[name]\n",
    "    # get index set in which user_rating is tbd, a non-numeric value\n",
    "    tbdIndex = df[df['user_rating']==\"tbd\"].index\n",
    "    # drop rows specified by indices in which user_rating is tbd\n",
    "    df = df.drop(labels=tbdIndex, axis='index')\n",
    "    # set updated data to platform_df\n",
    "    platform_df[name] = df"
   ]
  },
  {
   "cell_type": "code",
   "execution_count": 11,
   "metadata": {},
   "outputs": [],
   "source": [
    "# convert ratings to a numeric type\n",
    "\n",
    "# for each platform\n",
    "for name in platformsNames:\n",
    "    # get its dataframe\n",
    "    df = platform_df[name]\n",
    "    # convert to a numeric type\n",
    "    df['user_rating'] = pd.to_numeric(df['user_rating'])\n",
    "    df['critic_rating'] = pd.to_numeric(df['critic_rating'])\n",
    "    # set updated data to platform_df\n",
    "    platform_df[name] = df"
   ]
  },
  {
   "cell_type": "code",
   "execution_count": 12,
   "metadata": {
    "scrolled": true
   },
   "outputs": [
    {
     "data": {
      "text/plain": [
       "title             object\n",
       "user_rating      float64\n",
       "critic_rating      int64\n",
       "dtype: object"
      ]
     },
     "execution_count": 12,
     "metadata": {},
     "output_type": "execute_result"
    }
   ],
   "source": [
    "# check data types\n",
    "platform_df['ps4'].dtypes"
   ]
  },
  {
   "cell_type": "code",
   "execution_count": 13,
   "metadata": {},
   "outputs": [],
   "source": [
    "# user ratings must be on the same scale as critics ratings, so we multiply them by 10\n",
    "\n",
    "# for each platform\n",
    "for platformName in platform_df:\n",
    "    platform_df[platformName]['user_rating'] = platform_df[platformName]['user_rating'] * 10"
   ]
  },
  {
   "cell_type": "code",
   "execution_count": 14,
   "metadata": {},
   "outputs": [
    {
     "data": {
      "text/html": [
       "<div>\n",
       "<style scoped>\n",
       "    .dataframe tbody tr th:only-of-type {\n",
       "        vertical-align: middle;\n",
       "    }\n",
       "\n",
       "    .dataframe tbody tr th {\n",
       "        vertical-align: top;\n",
       "    }\n",
       "\n",
       "    .dataframe thead th {\n",
       "        text-align: right;\n",
       "    }\n",
       "</style>\n",
       "<table border=\"1\" class=\"dataframe\">\n",
       "  <thead>\n",
       "    <tr style=\"text-align: right;\">\n",
       "      <th></th>\n",
       "      <th>title</th>\n",
       "      <th>user_rating</th>\n",
       "      <th>critic_rating</th>\n",
       "    </tr>\n",
       "  </thead>\n",
       "  <tbody>\n",
       "    <tr>\n",
       "      <th>0</th>\n",
       "      <td>final fantasy xiv: shadowbringers</td>\n",
       "      <td>83.0</td>\n",
       "      <td>91</td>\n",
       "    </tr>\n",
       "    <tr>\n",
       "      <th>1</th>\n",
       "      <td>nier: automata - game of the yorha edition</td>\n",
       "      <td>85.0</td>\n",
       "      <td>91</td>\n",
       "    </tr>\n",
       "    <tr>\n",
       "      <th>2</th>\n",
       "      <td>resident evil 2</td>\n",
       "      <td>88.0</td>\n",
       "      <td>91</td>\n",
       "    </tr>\n",
       "    <tr>\n",
       "      <th>3</th>\n",
       "      <td>sekiro: shadows die twice</td>\n",
       "      <td>79.0</td>\n",
       "      <td>90</td>\n",
       "    </tr>\n",
       "    <tr>\n",
       "      <th>4</th>\n",
       "      <td>monster hunter: world - iceborne</td>\n",
       "      <td>84.0</td>\n",
       "      <td>89</td>\n",
       "    </tr>\n",
       "    <tr>\n",
       "      <th>...</th>\n",
       "      <td>...</td>\n",
       "      <td>...</td>\n",
       "      <td>...</td>\n",
       "    </tr>\n",
       "    <tr>\n",
       "      <th>335</th>\n",
       "      <td>zombieland: double tap - road trip</td>\n",
       "      <td>46.0</td>\n",
       "      <td>39</td>\n",
       "    </tr>\n",
       "    <tr>\n",
       "      <th>336</th>\n",
       "      <td>left alive</td>\n",
       "      <td>83.0</td>\n",
       "      <td>37</td>\n",
       "    </tr>\n",
       "    <tr>\n",
       "      <th>337</th>\n",
       "      <td>eternity: the last unicorn</td>\n",
       "      <td>38.0</td>\n",
       "      <td>36</td>\n",
       "    </tr>\n",
       "    <tr>\n",
       "      <th>338</th>\n",
       "      <td>dayz</td>\n",
       "      <td>28.0</td>\n",
       "      <td>31</td>\n",
       "    </tr>\n",
       "    <tr>\n",
       "      <th>339</th>\n",
       "      <td>where the bees make honey</td>\n",
       "      <td>32.0</td>\n",
       "      <td>31</td>\n",
       "    </tr>\n",
       "  </tbody>\n",
       "</table>\n",
       "<p>310 rows × 3 columns</p>\n",
       "</div>"
      ],
      "text/plain": [
       "                                          title  user_rating  critic_rating\n",
       "0             final fantasy xiv: shadowbringers         83.0             91\n",
       "1    nier: automata - game of the yorha edition         85.0             91\n",
       "2                               resident evil 2         88.0             91\n",
       "3                     sekiro: shadows die twice         79.0             90\n",
       "4              monster hunter: world - iceborne         84.0             89\n",
       "..                                          ...          ...            ...\n",
       "335          zombieland: double tap - road trip         46.0             39\n",
       "336                                  left alive         83.0             37\n",
       "337                  eternity: the last unicorn         38.0             36\n",
       "338                                        dayz         28.0             31\n",
       "339                   where the bees make honey         32.0             31\n",
       "\n",
       "[310 rows x 3 columns]"
      ]
     },
     "execution_count": 14,
     "metadata": {},
     "output_type": "execute_result"
    }
   ],
   "source": [
    "platform_df['ps4']"
   ]
  },
  {
   "cell_type": "markdown",
   "metadata": {},
   "source": [
    "___"
   ]
  },
  {
   "cell_type": "markdown",
   "metadata": {},
   "source": [
    "### Optional: Store Cleaed Data Into a CSV File"
   ]
  },
  {
   "cell_type": "code",
   "execution_count": 15,
   "metadata": {},
   "outputs": [
    {
     "data": {
      "text/plain": [
       "\"\\n# store data to a csv file\\n\\n# for each platform\\nfor platformName in platform_df:\\n    # save to a csv file\\n    platform_df[platformName].to_csv(str(platformName)+'.csv')\\n\""
      ]
     },
     "execution_count": 15,
     "metadata": {},
     "output_type": "execute_result"
    }
   ],
   "source": [
    "\"\"\"\n",
    "# store data to a csv file\n",
    "\n",
    "# for each platform\n",
    "for platformName in platform_df:\n",
    "    # save to a csv file\n",
    "    platform_df[platformName].to_csv(str(platformName)+'.csv')\n",
    "\"\"\""
   ]
  },
  {
   "cell_type": "markdown",
   "metadata": {},
   "source": [
    "___"
   ]
  },
  {
   "cell_type": "markdown",
   "metadata": {},
   "source": [
    "### Compute Disparity (Difference) Between Users and Critics"
   ]
  },
  {
   "cell_type": "code",
   "execution_count": 16,
   "metadata": {},
   "outputs": [],
   "source": [
    "# for each platform\n",
    "for name in platform_df:\n",
    "    # get dataframe of the platform\n",
    "    df = platform_df[name]\n",
    "    # for each record, compute distance between user and critic ratings, then set result to a new column\n",
    "    df['userCritic_difference'] = df.apply(lambda x: abs(x['user_rating']-x['critic_rating']), axis=1)\n",
    "    # assign updates back to our dataframe\n",
    "    platform_df[name] = df"
   ]
  },
  {
   "cell_type": "code",
   "execution_count": 17,
   "metadata": {},
   "outputs": [
    {
     "data": {
      "text/html": [
       "<div>\n",
       "<style scoped>\n",
       "    .dataframe tbody tr th:only-of-type {\n",
       "        vertical-align: middle;\n",
       "    }\n",
       "\n",
       "    .dataframe tbody tr th {\n",
       "        vertical-align: top;\n",
       "    }\n",
       "\n",
       "    .dataframe thead th {\n",
       "        text-align: right;\n",
       "    }\n",
       "</style>\n",
       "<table border=\"1\" class=\"dataframe\">\n",
       "  <thead>\n",
       "    <tr style=\"text-align: right;\">\n",
       "      <th></th>\n",
       "      <th>title</th>\n",
       "      <th>user_rating</th>\n",
       "      <th>critic_rating</th>\n",
       "      <th>userCritic_difference</th>\n",
       "    </tr>\n",
       "  </thead>\n",
       "  <tbody>\n",
       "    <tr>\n",
       "      <th>0</th>\n",
       "      <td>final fantasy xiv: shadowbringers</td>\n",
       "      <td>83.0</td>\n",
       "      <td>91</td>\n",
       "      <td>8.0</td>\n",
       "    </tr>\n",
       "    <tr>\n",
       "      <th>1</th>\n",
       "      <td>nier: automata - game of the yorha edition</td>\n",
       "      <td>85.0</td>\n",
       "      <td>91</td>\n",
       "      <td>6.0</td>\n",
       "    </tr>\n",
       "    <tr>\n",
       "      <th>2</th>\n",
       "      <td>resident evil 2</td>\n",
       "      <td>88.0</td>\n",
       "      <td>91</td>\n",
       "      <td>3.0</td>\n",
       "    </tr>\n",
       "    <tr>\n",
       "      <th>3</th>\n",
       "      <td>sekiro: shadows die twice</td>\n",
       "      <td>79.0</td>\n",
       "      <td>90</td>\n",
       "      <td>11.0</td>\n",
       "    </tr>\n",
       "    <tr>\n",
       "      <th>4</th>\n",
       "      <td>monster hunter: world - iceborne</td>\n",
       "      <td>84.0</td>\n",
       "      <td>89</td>\n",
       "      <td>5.0</td>\n",
       "    </tr>\n",
       "    <tr>\n",
       "      <th>...</th>\n",
       "      <td>...</td>\n",
       "      <td>...</td>\n",
       "      <td>...</td>\n",
       "      <td>...</td>\n",
       "    </tr>\n",
       "    <tr>\n",
       "      <th>335</th>\n",
       "      <td>zombieland: double tap - road trip</td>\n",
       "      <td>46.0</td>\n",
       "      <td>39</td>\n",
       "      <td>7.0</td>\n",
       "    </tr>\n",
       "    <tr>\n",
       "      <th>336</th>\n",
       "      <td>left alive</td>\n",
       "      <td>83.0</td>\n",
       "      <td>37</td>\n",
       "      <td>46.0</td>\n",
       "    </tr>\n",
       "    <tr>\n",
       "      <th>337</th>\n",
       "      <td>eternity: the last unicorn</td>\n",
       "      <td>38.0</td>\n",
       "      <td>36</td>\n",
       "      <td>2.0</td>\n",
       "    </tr>\n",
       "    <tr>\n",
       "      <th>338</th>\n",
       "      <td>dayz</td>\n",
       "      <td>28.0</td>\n",
       "      <td>31</td>\n",
       "      <td>3.0</td>\n",
       "    </tr>\n",
       "    <tr>\n",
       "      <th>339</th>\n",
       "      <td>where the bees make honey</td>\n",
       "      <td>32.0</td>\n",
       "      <td>31</td>\n",
       "      <td>1.0</td>\n",
       "    </tr>\n",
       "  </tbody>\n",
       "</table>\n",
       "<p>310 rows × 4 columns</p>\n",
       "</div>"
      ],
      "text/plain": [
       "                                          title  user_rating  critic_rating  \\\n",
       "0             final fantasy xiv: shadowbringers         83.0             91   \n",
       "1    nier: automata - game of the yorha edition         85.0             91   \n",
       "2                               resident evil 2         88.0             91   \n",
       "3                     sekiro: shadows die twice         79.0             90   \n",
       "4              monster hunter: world - iceborne         84.0             89   \n",
       "..                                          ...          ...            ...   \n",
       "335          zombieland: double tap - road trip         46.0             39   \n",
       "336                                  left alive         83.0             37   \n",
       "337                  eternity: the last unicorn         38.0             36   \n",
       "338                                        dayz         28.0             31   \n",
       "339                   where the bees make honey         32.0             31   \n",
       "\n",
       "     userCritic_difference  \n",
       "0                      8.0  \n",
       "1                      6.0  \n",
       "2                      3.0  \n",
       "3                     11.0  \n",
       "4                      5.0  \n",
       "..                     ...  \n",
       "335                    7.0  \n",
       "336                   46.0  \n",
       "337                    2.0  \n",
       "338                    3.0  \n",
       "339                    1.0  \n",
       "\n",
       "[310 rows x 4 columns]"
      ]
     },
     "execution_count": 17,
     "metadata": {},
     "output_type": "execute_result"
    }
   ],
   "source": [
    "platform_df['ps4']"
   ]
  },
  {
   "cell_type": "markdown",
   "metadata": {},
   "source": [
    "### Discretize Disparity Computed Earlier Into Categories"
   ]
  },
  {
   "cell_type": "code",
   "execution_count": 18,
   "metadata": {},
   "outputs": [],
   "source": [
    "# categories names and their corresponding intervals\n",
    "# category at location x corresponds to interval equal or greater than intervals location x and less than location x + 1\n",
    "# except for last category, has no end\n",
    "categories = pd.Series([\"low\", \"moderate\", \"high\", \"very_high\", \"extremely_high\"])\n",
    "intervals_categories = [0, 20, 30, 40, 50]"
   ]
  },
  {
   "cell_type": "code",
   "execution_count": 19,
   "metadata": {},
   "outputs": [],
   "source": [
    "# compute categories as defined earlier\n",
    "\n",
    "# loop on platforms\n",
    "for platformName in platform_df:\n",
    "    # get dataframe of the platform\n",
    "    df = platform_df[platformName]\n",
    "    # add category based on difference just defined\n",
    "    df['difference_category'] = df.apply(discIntCat.numToCat, axis=1, args=('userCritic_difference', categories, intervals_categories))\n",
    "    \n",
    "    # let categories be recognized by pandas\n",
    "    df['difference_category'] = df['difference_category'].astype(\"category\")\n",
    "    # re-order categories\n",
    "    df['difference_category'] = df['difference_category'].cat.set_categories(categories, ordered=True)\n",
    "    \n",
    "    \n",
    "    # assign back to our dataframe\n",
    "    platform_df[platformName] = df"
   ]
  },
  {
   "cell_type": "code",
   "execution_count": 20,
   "metadata": {},
   "outputs": [
    {
     "data": {
      "text/html": [
       "<div>\n",
       "<style scoped>\n",
       "    .dataframe tbody tr th:only-of-type {\n",
       "        vertical-align: middle;\n",
       "    }\n",
       "\n",
       "    .dataframe tbody tr th {\n",
       "        vertical-align: top;\n",
       "    }\n",
       "\n",
       "    .dataframe thead th {\n",
       "        text-align: right;\n",
       "    }\n",
       "</style>\n",
       "<table border=\"1\" class=\"dataframe\">\n",
       "  <thead>\n",
       "    <tr style=\"text-align: right;\">\n",
       "      <th></th>\n",
       "      <th>title</th>\n",
       "      <th>user_rating</th>\n",
       "      <th>critic_rating</th>\n",
       "      <th>userCritic_difference</th>\n",
       "      <th>difference_category</th>\n",
       "    </tr>\n",
       "  </thead>\n",
       "  <tbody>\n",
       "    <tr>\n",
       "      <th>0</th>\n",
       "      <td>final fantasy xiv: shadowbringers</td>\n",
       "      <td>83.0</td>\n",
       "      <td>91</td>\n",
       "      <td>8.0</td>\n",
       "      <td>low</td>\n",
       "    </tr>\n",
       "    <tr>\n",
       "      <th>1</th>\n",
       "      <td>nier: automata - game of the yorha edition</td>\n",
       "      <td>85.0</td>\n",
       "      <td>91</td>\n",
       "      <td>6.0</td>\n",
       "      <td>low</td>\n",
       "    </tr>\n",
       "    <tr>\n",
       "      <th>2</th>\n",
       "      <td>resident evil 2</td>\n",
       "      <td>88.0</td>\n",
       "      <td>91</td>\n",
       "      <td>3.0</td>\n",
       "      <td>low</td>\n",
       "    </tr>\n",
       "    <tr>\n",
       "      <th>3</th>\n",
       "      <td>sekiro: shadows die twice</td>\n",
       "      <td>79.0</td>\n",
       "      <td>90</td>\n",
       "      <td>11.0</td>\n",
       "      <td>low</td>\n",
       "    </tr>\n",
       "    <tr>\n",
       "      <th>4</th>\n",
       "      <td>monster hunter: world - iceborne</td>\n",
       "      <td>84.0</td>\n",
       "      <td>89</td>\n",
       "      <td>5.0</td>\n",
       "      <td>low</td>\n",
       "    </tr>\n",
       "    <tr>\n",
       "      <th>...</th>\n",
       "      <td>...</td>\n",
       "      <td>...</td>\n",
       "      <td>...</td>\n",
       "      <td>...</td>\n",
       "      <td>...</td>\n",
       "    </tr>\n",
       "    <tr>\n",
       "      <th>335</th>\n",
       "      <td>zombieland: double tap - road trip</td>\n",
       "      <td>46.0</td>\n",
       "      <td>39</td>\n",
       "      <td>7.0</td>\n",
       "      <td>low</td>\n",
       "    </tr>\n",
       "    <tr>\n",
       "      <th>336</th>\n",
       "      <td>left alive</td>\n",
       "      <td>83.0</td>\n",
       "      <td>37</td>\n",
       "      <td>46.0</td>\n",
       "      <td>very_high</td>\n",
       "    </tr>\n",
       "    <tr>\n",
       "      <th>337</th>\n",
       "      <td>eternity: the last unicorn</td>\n",
       "      <td>38.0</td>\n",
       "      <td>36</td>\n",
       "      <td>2.0</td>\n",
       "      <td>low</td>\n",
       "    </tr>\n",
       "    <tr>\n",
       "      <th>338</th>\n",
       "      <td>dayz</td>\n",
       "      <td>28.0</td>\n",
       "      <td>31</td>\n",
       "      <td>3.0</td>\n",
       "      <td>low</td>\n",
       "    </tr>\n",
       "    <tr>\n",
       "      <th>339</th>\n",
       "      <td>where the bees make honey</td>\n",
       "      <td>32.0</td>\n",
       "      <td>31</td>\n",
       "      <td>1.0</td>\n",
       "      <td>low</td>\n",
       "    </tr>\n",
       "  </tbody>\n",
       "</table>\n",
       "<p>310 rows × 5 columns</p>\n",
       "</div>"
      ],
      "text/plain": [
       "                                          title  user_rating  critic_rating  \\\n",
       "0             final fantasy xiv: shadowbringers         83.0             91   \n",
       "1    nier: automata - game of the yorha edition         85.0             91   \n",
       "2                               resident evil 2         88.0             91   \n",
       "3                     sekiro: shadows die twice         79.0             90   \n",
       "4              monster hunter: world - iceborne         84.0             89   \n",
       "..                                          ...          ...            ...   \n",
       "335          zombieland: double tap - road trip         46.0             39   \n",
       "336                                  left alive         83.0             37   \n",
       "337                  eternity: the last unicorn         38.0             36   \n",
       "338                                        dayz         28.0             31   \n",
       "339                   where the bees make honey         32.0             31   \n",
       "\n",
       "     userCritic_difference difference_category  \n",
       "0                      8.0                 low  \n",
       "1                      6.0                 low  \n",
       "2                      3.0                 low  \n",
       "3                     11.0                 low  \n",
       "4                      5.0                 low  \n",
       "..                     ...                 ...  \n",
       "335                    7.0                 low  \n",
       "336                   46.0           very_high  \n",
       "337                    2.0                 low  \n",
       "338                    3.0                 low  \n",
       "339                    1.0                 low  \n",
       "\n",
       "[310 rows x 5 columns]"
      ]
     },
     "execution_count": 20,
     "metadata": {},
     "output_type": "execute_result"
    }
   ],
   "source": [
    "# take a look after our new columns added\n",
    "platform_df['ps4']"
   ]
  },
  {
   "cell_type": "markdown",
   "metadata": {},
   "source": [
    "### Sort According to Disparity Between Users and Critics"
   ]
  },
  {
   "cell_type": "code",
   "execution_count": 21,
   "metadata": {},
   "outputs": [],
   "source": [
    "# for each platform\n",
    "for platformName in platform_df:\n",
    "    # get platform dataframe\n",
    "    df = platform_df[platformName]\n",
    "    # sort it by userCritic_difference\n",
    "    df = df.sort_values(axis=0, by='userCritic_difference', ascending=False)\n",
    "    # assign sorted dataframe back to our dataframe\n",
    "    platform_df[platformName] = df"
   ]
  },
  {
   "cell_type": "markdown",
   "metadata": {},
   "source": [
    "### Basic Stats on Disparity Between Users and Critics"
   ]
  },
  {
   "cell_type": "code",
   "execution_count": 22,
   "metadata": {},
   "outputs": [
    {
     "name": "stdout",
     "output_type": "stream",
     "text": [
      "\n",
      " on  ps4\n",
      "count    310.000000\n",
      "mean      15.893548\n",
      "std       13.074530\n",
      "min        0.000000\n",
      "25%        5.000000\n",
      "50%       12.000000\n",
      "75%       23.000000\n",
      "max       69.000000\n",
      "Name: userCritic_difference, dtype: float64\n",
      "\n",
      " on  xbox\n",
      "count    186.000000\n",
      "mean      14.801075\n",
      "std       13.192881\n",
      "min        0.000000\n",
      "25%        5.000000\n",
      "50%       11.000000\n",
      "75%       21.000000\n",
      "max       69.000000\n",
      "Name: userCritic_difference, dtype: float64\n",
      "\n",
      " on  switch\n",
      "count    364.000000\n",
      "mean       6.876374\n",
      "std        8.741062\n",
      "min        0.000000\n",
      "25%        1.750000\n",
      "50%        4.000000\n",
      "75%        9.000000\n",
      "max       58.000000\n",
      "Name: userCritic_difference, dtype: float64\n",
      "\n",
      " on  pc\n",
      "count    327.000000\n",
      "mean      13.547401\n",
      "std       12.322982\n",
      "min        0.000000\n",
      "25%        4.000000\n",
      "50%       10.000000\n",
      "75%       19.000000\n",
      "max       63.000000\n",
      "Name: userCritic_difference, dtype: float64\n"
     ]
    }
   ],
   "source": [
    "# for each platform\n",
    "for platformName in platform_df:\n",
    "    # print platform name\n",
    "    print(\"\\n\", \"on \", platformName)\n",
    "    # show basic stat\n",
    "    print(platform_df[platformName]['userCritic_difference'].describe())"
   ]
  },
  {
   "cell_type": "markdown",
   "metadata": {},
   "source": [
    "___"
   ]
  },
  {
   "cell_type": "markdown",
   "metadata": {},
   "source": [
    "## Categories Size"
   ]
  },
  {
   "cell_type": "markdown",
   "metadata": {},
   "source": [
    "### Platform x Category 2D Sizes Dataframe"
   ]
  },
  {
   "cell_type": "code",
   "execution_count": 23,
   "metadata": {},
   "outputs": [],
   "source": [
    "platform_category_size = transform.map_columnCount(platform_df, 'difference_category')"
   ]
  },
  {
   "cell_type": "code",
   "execution_count": 24,
   "metadata": {},
   "outputs": [
    {
     "data": {
      "text/html": [
       "<div>\n",
       "<style scoped>\n",
       "    .dataframe tbody tr th:only-of-type {\n",
       "        vertical-align: middle;\n",
       "    }\n",
       "\n",
       "    .dataframe tbody tr th {\n",
       "        vertical-align: top;\n",
       "    }\n",
       "\n",
       "    .dataframe thead th {\n",
       "        text-align: right;\n",
       "    }\n",
       "</style>\n",
       "<table border=\"1\" class=\"dataframe\">\n",
       "  <thead>\n",
       "    <tr style=\"text-align: right;\">\n",
       "      <th></th>\n",
       "      <th>low</th>\n",
       "      <th>moderate</th>\n",
       "      <th>high</th>\n",
       "      <th>very_high</th>\n",
       "      <th>extremely_high</th>\n",
       "    </tr>\n",
       "  </thead>\n",
       "  <tbody>\n",
       "    <tr>\n",
       "      <th>ps4</th>\n",
       "      <td>211</td>\n",
       "      <td>52</td>\n",
       "      <td>33</td>\n",
       "      <td>9</td>\n",
       "      <td>5</td>\n",
       "    </tr>\n",
       "    <tr>\n",
       "      <th>xbox</th>\n",
       "      <td>131</td>\n",
       "      <td>31</td>\n",
       "      <td>14</td>\n",
       "      <td>5</td>\n",
       "      <td>5</td>\n",
       "    </tr>\n",
       "    <tr>\n",
       "      <th>switch</th>\n",
       "      <td>334</td>\n",
       "      <td>19</td>\n",
       "      <td>6</td>\n",
       "      <td>2</td>\n",
       "      <td>3</td>\n",
       "    </tr>\n",
       "    <tr>\n",
       "      <th>pc</th>\n",
       "      <td>249</td>\n",
       "      <td>43</td>\n",
       "      <td>22</td>\n",
       "      <td>8</td>\n",
       "      <td>5</td>\n",
       "    </tr>\n",
       "  </tbody>\n",
       "</table>\n",
       "</div>"
      ],
      "text/plain": [
       "        low  moderate  high  very_high  extremely_high\n",
       "ps4     211        52    33          9               5\n",
       "xbox    131        31    14          5               5\n",
       "switch  334        19     6          2               3\n",
       "pc      249        43    22          8               5"
      ]
     },
     "execution_count": 24,
     "metadata": {},
     "output_type": "execute_result"
    }
   ],
   "source": [
    "platform_category_size"
   ]
  },
  {
   "cell_type": "markdown",
   "metadata": {},
   "source": [
    "### Category x Platform 2D Sizes Dataframe"
   ]
  },
  {
   "cell_type": "code",
   "execution_count": 25,
   "metadata": {},
   "outputs": [],
   "source": [
    "category_platform_size = platform_category_size.transpose()"
   ]
  },
  {
   "cell_type": "code",
   "execution_count": 26,
   "metadata": {},
   "outputs": [
    {
     "data": {
      "text/html": [
       "<div>\n",
       "<style scoped>\n",
       "    .dataframe tbody tr th:only-of-type {\n",
       "        vertical-align: middle;\n",
       "    }\n",
       "\n",
       "    .dataframe tbody tr th {\n",
       "        vertical-align: top;\n",
       "    }\n",
       "\n",
       "    .dataframe thead th {\n",
       "        text-align: right;\n",
       "    }\n",
       "</style>\n",
       "<table border=\"1\" class=\"dataframe\">\n",
       "  <thead>\n",
       "    <tr style=\"text-align: right;\">\n",
       "      <th></th>\n",
       "      <th>ps4</th>\n",
       "      <th>xbox</th>\n",
       "      <th>switch</th>\n",
       "      <th>pc</th>\n",
       "    </tr>\n",
       "    <tr>\n",
       "      <th></th>\n",
       "      <th></th>\n",
       "      <th></th>\n",
       "      <th></th>\n",
       "      <th></th>\n",
       "    </tr>\n",
       "  </thead>\n",
       "  <tbody>\n",
       "    <tr>\n",
       "      <th>low</th>\n",
       "      <td>211</td>\n",
       "      <td>131</td>\n",
       "      <td>334</td>\n",
       "      <td>249</td>\n",
       "    </tr>\n",
       "    <tr>\n",
       "      <th>moderate</th>\n",
       "      <td>52</td>\n",
       "      <td>31</td>\n",
       "      <td>19</td>\n",
       "      <td>43</td>\n",
       "    </tr>\n",
       "    <tr>\n",
       "      <th>high</th>\n",
       "      <td>33</td>\n",
       "      <td>14</td>\n",
       "      <td>6</td>\n",
       "      <td>22</td>\n",
       "    </tr>\n",
       "    <tr>\n",
       "      <th>very_high</th>\n",
       "      <td>9</td>\n",
       "      <td>5</td>\n",
       "      <td>2</td>\n",
       "      <td>8</td>\n",
       "    </tr>\n",
       "    <tr>\n",
       "      <th>extremely_high</th>\n",
       "      <td>5</td>\n",
       "      <td>5</td>\n",
       "      <td>3</td>\n",
       "      <td>5</td>\n",
       "    </tr>\n",
       "  </tbody>\n",
       "</table>\n",
       "</div>"
      ],
      "text/plain": [
       "                ps4  xbox  switch   pc\n",
       "                                      \n",
       "low             211   131     334  249\n",
       "moderate         52    31      19   43\n",
       "high             33    14       6   22\n",
       "very_high         9     5       2    8\n",
       "extremely_high    5     5       3    5"
      ]
     },
     "execution_count": 26,
     "metadata": {},
     "output_type": "execute_result"
    }
   ],
   "source": [
    "category_platform_size"
   ]
  },
  {
   "cell_type": "code",
   "execution_count": 27,
   "metadata": {
    "scrolled": false
   },
   "outputs": [
    {
     "data": {
      "text/plain": [
       "211"
      ]
     },
     "execution_count": 27,
     "metadata": {},
     "output_type": "execute_result"
    }
   ],
   "source": [
    "category_platform_size.loc['low', 'ps4']"
   ]
  },
  {
   "cell_type": "markdown",
   "metadata": {},
   "source": [
    "___"
   ]
  },
  {
   "cell_type": "markdown",
   "metadata": {},
   "source": [
    "## Graphing Disparity Between Users and Critics"
   ]
  },
  {
   "cell_type": "markdown",
   "metadata": {},
   "source": [
    "### Pie Graph"
   ]
  },
  {
   "cell_type": "code",
   "execution_count": 28,
   "metadata": {},
   "outputs": [
    {
     "data": {
      "image/png": "[encoded data removed]",
      "text/plain": [
       "<Figure size 432x432 with 1 Axes>"
      ]
     },
     "metadata": {},
     "output_type": "display_data"
    },
    {
     "data": {
      "image/png": "[encoded data removed]",
      "text/plain": [
       "<Figure size 432x432 with 1 Axes>"
      ]
     },
     "metadata": {},
     "output_type": "display_data"
    },
    {
     "data": {
      "image/png": "[encoded data removed]",
      "text/plain": [
       "<Figure size 432x432 with 1 Axes>"
      ]
     },
     "metadata": {},
     "output_type": "display_data"
    },
    {
     "data": {
      "image/png": "[encoded data removed]",
      "text/plain": [
       "<Figure size 432x432 with 1 Axes>"
      ]
     },
     "metadata": {},
     "output_type": "display_data"
    }
   ],
   "source": [
    "for columnName in category_platform_size:\n",
    "    platSeries = category_platform_size[columnName]\n",
    "    platName = platSeries.name\n",
    "    pieGraph.showPieGraph(platSeries, platName + ' categories percentages', 6, 6)"
   ]
  },
  {
   "cell_type": "markdown",
   "metadata": {},
   "source": [
    "### Grouped Bar"
   ]
  },
  {
   "cell_type": "code",
   "execution_count": 29,
   "metadata": {
    "scrolled": false
   },
   "outputs": [
    {
     "data": {
      "image/png": "[encoded data removed]",
      "text/plain": [
       "<Figure size 864x360 with 1 Axes>"
      ]
     },
     "metadata": {
      "needs_background": "light"
     },
     "output_type": "display_data"
    }
   ],
   "source": [
    "groupedBarsGraph.showGroupedBars(platform_category_size, platformsNames, 'categories size', 'categories size by platform')"
   ]
  },
  {
   "cell_type": "markdown",
   "metadata": {},
   "source": [
    "### Categorical Heatmap"
   ]
  },
  {
   "cell_type": "code",
   "execution_count": 30,
   "metadata": {},
   "outputs": [
    {
     "data": {
      "image/png": "[encoded data removed]",
      "text/plain": [
       "<Figure size 576x576 with 1 Axes>"
      ]
     },
     "metadata": {
      "needs_background": "light"
     },
     "output_type": "display_data"
    }
   ],
   "source": [
    "categoricalHeatmapGraph.showCategoricalHeatmap(8, 8, category_platform_size, \"categories sizes among platforms\")"
   ]
  },
  {
   "cell_type": "markdown",
   "metadata": {},
   "source": [
    "### Maximum Disparity Between Users and Critics Ratings"
   ]
  },
  {
   "cell_type": "code",
   "execution_count": 31,
   "metadata": {
    "scrolled": false
   },
   "outputs": [
    {
     "data": {
      "text/html": [
       "<div>\n",
       "<style scoped>\n",
       "    .dataframe tbody tr th:only-of-type {\n",
       "        vertical-align: middle;\n",
       "    }\n",
       "\n",
       "    .dataframe tbody tr th {\n",
       "        vertical-align: top;\n",
       "    }\n",
       "\n",
       "    .dataframe thead th {\n",
       "        text-align: right;\n",
       "    }\n",
       "</style>\n",
       "<table border=\"1\" class=\"dataframe\">\n",
       "  <thead>\n",
       "    <tr style=\"text-align: right;\">\n",
       "      <th></th>\n",
       "      <th>title</th>\n",
       "      <th>user_rating</th>\n",
       "      <th>critic_rating</th>\n",
       "      <th>userCritic_difference</th>\n",
       "      <th>difference_category</th>\n",
       "    </tr>\n",
       "  </thead>\n",
       "  <tbody>\n",
       "    <tr>\n",
       "      <th>93</th>\n",
       "      <td>nba 2k20</td>\n",
       "      <td>9.0</td>\n",
       "      <td>78</td>\n",
       "      <td>69.0</td>\n",
       "      <td>extremely_high</td>\n",
       "    </tr>\n",
       "    <tr>\n",
       "      <th>82</th>\n",
       "      <td>fifa 20</td>\n",
       "      <td>11.0</td>\n",
       "      <td>79</td>\n",
       "      <td>68.0</td>\n",
       "      <td>extremely_high</td>\n",
       "    </tr>\n",
       "    <tr>\n",
       "      <th>116</th>\n",
       "      <td>madden nfl 20</td>\n",
       "      <td>16.0</td>\n",
       "      <td>76</td>\n",
       "      <td>60.0</td>\n",
       "      <td>extremely_high</td>\n",
       "    </tr>\n",
       "    <tr>\n",
       "      <th>79</th>\n",
       "      <td>gravity ghost: deluxe edition</td>\n",
       "      <td>27.0</td>\n",
       "      <td>79</td>\n",
       "      <td>52.0</td>\n",
       "      <td>extremely_high</td>\n",
       "    </tr>\n",
       "    <tr>\n",
       "      <th>172</th>\n",
       "      <td>simulacra</td>\n",
       "      <td>21.0</td>\n",
       "      <td>72</td>\n",
       "      <td>51.0</td>\n",
       "      <td>extremely_high</td>\n",
       "    </tr>\n",
       "    <tr>\n",
       "      <th>36</th>\n",
       "      <td>mortal kombat 11</td>\n",
       "      <td>33.0</td>\n",
       "      <td>82</td>\n",
       "      <td>49.0</td>\n",
       "      <td>very_high</td>\n",
       "    </tr>\n",
       "    <tr>\n",
       "      <th>58</th>\n",
       "      <td>call of duty: modern warfare</td>\n",
       "      <td>32.0</td>\n",
       "      <td>80</td>\n",
       "      <td>48.0</td>\n",
       "      <td>very_high</td>\n",
       "    </tr>\n",
       "    <tr>\n",
       "      <th>199</th>\n",
       "      <td>hitman hd enhanced collection</td>\n",
       "      <td>21.0</td>\n",
       "      <td>69</td>\n",
       "      <td>48.0</td>\n",
       "      <td>very_high</td>\n",
       "    </tr>\n",
       "    <tr>\n",
       "      <th>217</th>\n",
       "      <td>mxgp 2019</td>\n",
       "      <td>20.0</td>\n",
       "      <td>68</td>\n",
       "      <td>48.0</td>\n",
       "      <td>very_high</td>\n",
       "    </tr>\n",
       "    <tr>\n",
       "      <th>224</th>\n",
       "      <td>we. the revolution</td>\n",
       "      <td>20.0</td>\n",
       "      <td>67</td>\n",
       "      <td>47.0</td>\n",
       "      <td>very_high</td>\n",
       "    </tr>\n",
       "    <tr>\n",
       "      <th>218</th>\n",
       "      <td>giga wrecker alt.</td>\n",
       "      <td>20.0</td>\n",
       "      <td>67</td>\n",
       "      <td>47.0</td>\n",
       "      <td>very_high</td>\n",
       "    </tr>\n",
       "    <tr>\n",
       "      <th>336</th>\n",
       "      <td>left alive</td>\n",
       "      <td>83.0</td>\n",
       "      <td>37</td>\n",
       "      <td>46.0</td>\n",
       "      <td>very_high</td>\n",
       "    </tr>\n",
       "    <tr>\n",
       "      <th>65</th>\n",
       "      <td>dauntless</td>\n",
       "      <td>34.0</td>\n",
       "      <td>80</td>\n",
       "      <td>46.0</td>\n",
       "      <td>very_high</td>\n",
       "    </tr>\n",
       "    <tr>\n",
       "      <th>285</th>\n",
       "      <td>darksiders iii: keepers of the void</td>\n",
       "      <td>18.0</td>\n",
       "      <td>59</td>\n",
       "      <td>41.0</td>\n",
       "      <td>very_high</td>\n",
       "    </tr>\n",
       "    <tr>\n",
       "      <th>286</th>\n",
       "      <td>attack of the earthlings</td>\n",
       "      <td>20.0</td>\n",
       "      <td>59</td>\n",
       "      <td>39.0</td>\n",
       "      <td>high</td>\n",
       "    </tr>\n",
       "    <tr>\n",
       "      <th>299</th>\n",
       "      <td>the lego movie 2 videogame</td>\n",
       "      <td>18.0</td>\n",
       "      <td>57</td>\n",
       "      <td>39.0</td>\n",
       "      <td>high</td>\n",
       "    </tr>\n",
       "    <tr>\n",
       "      <th>275</th>\n",
       "      <td>asterix &amp; obelix xxl 3: the crystal menhir</td>\n",
       "      <td>21.0</td>\n",
       "      <td>60</td>\n",
       "      <td>39.0</td>\n",
       "      <td>high</td>\n",
       "    </tr>\n",
       "    <tr>\n",
       "      <th>68</th>\n",
       "      <td>lonely mountains: downhill</td>\n",
       "      <td>41.0</td>\n",
       "      <td>80</td>\n",
       "      <td>39.0</td>\n",
       "      <td>high</td>\n",
       "    </tr>\n",
       "    <tr>\n",
       "      <th>256</th>\n",
       "      <td>a knight's quest</td>\n",
       "      <td>24.0</td>\n",
       "      <td>63</td>\n",
       "      <td>39.0</td>\n",
       "      <td>high</td>\n",
       "    </tr>\n",
       "    <tr>\n",
       "      <th>21</th>\n",
       "      <td>far: lone sails</td>\n",
       "      <td>44.0</td>\n",
       "      <td>83</td>\n",
       "      <td>39.0</td>\n",
       "      <td>high</td>\n",
       "    </tr>\n",
       "  </tbody>\n",
       "</table>\n",
       "</div>"
      ],
      "text/plain": [
       "                                          title  user_rating  critic_rating  \\\n",
       "93                                     nba 2k20          9.0             78   \n",
       "82                                      fifa 20         11.0             79   \n",
       "116                               madden nfl 20         16.0             76   \n",
       "79                gravity ghost: deluxe edition         27.0             79   \n",
       "172                                   simulacra         21.0             72   \n",
       "36                             mortal kombat 11         33.0             82   \n",
       "58                 call of duty: modern warfare         32.0             80   \n",
       "199               hitman hd enhanced collection         21.0             69   \n",
       "217                                   mxgp 2019         20.0             68   \n",
       "224                          we. the revolution         20.0             67   \n",
       "218                           giga wrecker alt.         20.0             67   \n",
       "336                                  left alive         83.0             37   \n",
       "65                                    dauntless         34.0             80   \n",
       "285         darksiders iii: keepers of the void         18.0             59   \n",
       "286                    attack of the earthlings         20.0             59   \n",
       "299                  the lego movie 2 videogame         18.0             57   \n",
       "275  asterix & obelix xxl 3: the crystal menhir         21.0             60   \n",
       "68                   lonely mountains: downhill         41.0             80   \n",
       "256                            a knight's quest         24.0             63   \n",
       "21                              far: lone sails         44.0             83   \n",
       "\n",
       "     userCritic_difference difference_category  \n",
       "93                    69.0      extremely_high  \n",
       "82                    68.0      extremely_high  \n",
       "116                   60.0      extremely_high  \n",
       "79                    52.0      extremely_high  \n",
       "172                   51.0      extremely_high  \n",
       "36                    49.0           very_high  \n",
       "58                    48.0           very_high  \n",
       "199                   48.0           very_high  \n",
       "217                   48.0           very_high  \n",
       "224                   47.0           very_high  \n",
       "218                   47.0           very_high  \n",
       "336                   46.0           very_high  \n",
       "65                    46.0           very_high  \n",
       "285                   41.0           very_high  \n",
       "286                   39.0                high  \n",
       "299                   39.0                high  \n",
       "275                   39.0                high  \n",
       "68                    39.0                high  \n",
       "256                   39.0                high  \n",
       "21                    39.0                high  "
      ]
     },
     "execution_count": 31,
     "metadata": {},
     "output_type": "execute_result"
    }
   ],
   "source": [
    "platform_df['ps4'].head(20)"
   ]
  },
  {
   "cell_type": "code",
   "execution_count": 32,
   "metadata": {
    "scrolled": true
   },
   "outputs": [
    {
     "data": {
      "text/html": [
       "<div>\n",
       "<style scoped>\n",
       "    .dataframe tbody tr th:only-of-type {\n",
       "        vertical-align: middle;\n",
       "    }\n",
       "\n",
       "    .dataframe tbody tr th {\n",
       "        vertical-align: top;\n",
       "    }\n",
       "\n",
       "    .dataframe thead th {\n",
       "        text-align: right;\n",
       "    }\n",
       "</style>\n",
       "<table border=\"1\" class=\"dataframe\">\n",
       "  <thead>\n",
       "    <tr style=\"text-align: right;\">\n",
       "      <th></th>\n",
       "      <th>title</th>\n",
       "      <th>user_rating</th>\n",
       "      <th>critic_rating</th>\n",
       "      <th>userCritic_difference</th>\n",
       "      <th>difference_category</th>\n",
       "    </tr>\n",
       "  </thead>\n",
       "  <tbody>\n",
       "    <tr>\n",
       "      <th>70</th>\n",
       "      <td>nba 2k20</td>\n",
       "      <td>11.0</td>\n",
       "      <td>80</td>\n",
       "      <td>69.0</td>\n",
       "      <td>extremely_high</td>\n",
       "    </tr>\n",
       "    <tr>\n",
       "      <th>74</th>\n",
       "      <td>fifa 20</td>\n",
       "      <td>11.0</td>\n",
       "      <td>79</td>\n",
       "      <td>68.0</td>\n",
       "      <td>extremely_high</td>\n",
       "    </tr>\n",
       "    <tr>\n",
       "      <th>75</th>\n",
       "      <td>madden nfl 20</td>\n",
       "      <td>20.0</td>\n",
       "      <td>79</td>\n",
       "      <td>59.0</td>\n",
       "      <td>extremely_high</td>\n",
       "    </tr>\n",
       "    <tr>\n",
       "      <th>9</th>\n",
       "      <td>mortal kombat 11</td>\n",
       "      <td>31.0</td>\n",
       "      <td>86</td>\n",
       "      <td>55.0</td>\n",
       "      <td>extremely_high</td>\n",
       "    </tr>\n",
       "    <tr>\n",
       "      <th>115</th>\n",
       "      <td>timespinner</td>\n",
       "      <td>23.0</td>\n",
       "      <td>74</td>\n",
       "      <td>51.0</td>\n",
       "      <td>extremely_high</td>\n",
       "    </tr>\n",
       "    <tr>\n",
       "      <th>169</th>\n",
       "      <td>wolfenstein: youngblood</td>\n",
       "      <td>20.0</td>\n",
       "      <td>68</td>\n",
       "      <td>48.0</td>\n",
       "      <td>very_high</td>\n",
       "    </tr>\n",
       "    <tr>\n",
       "      <th>57</th>\n",
       "      <td>call of duty: modern warfare</td>\n",
       "      <td>37.0</td>\n",
       "      <td>81</td>\n",
       "      <td>44.0</td>\n",
       "      <td>very_high</td>\n",
       "    </tr>\n",
       "    <tr>\n",
       "      <th>10</th>\n",
       "      <td>nhl 20</td>\n",
       "      <td>42.0</td>\n",
       "      <td>85</td>\n",
       "      <td>43.0</td>\n",
       "      <td>very_high</td>\n",
       "    </tr>\n",
       "    <tr>\n",
       "      <th>143</th>\n",
       "      <td>disney classic games: aladdin and the lion king</td>\n",
       "      <td>30.0</td>\n",
       "      <td>72</td>\n",
       "      <td>42.0</td>\n",
       "      <td>very_high</td>\n",
       "    </tr>\n",
       "    <tr>\n",
       "      <th>24</th>\n",
       "      <td>far: lone sails</td>\n",
       "      <td>43.0</td>\n",
       "      <td>84</td>\n",
       "      <td>41.0</td>\n",
       "      <td>very_high</td>\n",
       "    </tr>\n",
       "    <tr>\n",
       "      <th>45</th>\n",
       "      <td>dauntless</td>\n",
       "      <td>43.0</td>\n",
       "      <td>82</td>\n",
       "      <td>39.0</td>\n",
       "      <td>high</td>\n",
       "    </tr>\n",
       "    <tr>\n",
       "      <th>106</th>\n",
       "      <td>far cry new dawn</td>\n",
       "      <td>37.0</td>\n",
       "      <td>75</td>\n",
       "      <td>38.0</td>\n",
       "      <td>high</td>\n",
       "    </tr>\n",
       "    <tr>\n",
       "      <th>76</th>\n",
       "      <td>grid</td>\n",
       "      <td>45.0</td>\n",
       "      <td>79</td>\n",
       "      <td>34.0</td>\n",
       "      <td>high</td>\n",
       "    </tr>\n",
       "    <tr>\n",
       "      <th>248</th>\n",
       "      <td>wwe 2k20</td>\n",
       "      <td>11.0</td>\n",
       "      <td>45</td>\n",
       "      <td>34.0</td>\n",
       "      <td>high</td>\n",
       "    </tr>\n",
       "    <tr>\n",
       "      <th>92</th>\n",
       "      <td>assassin's creed iii remastered</td>\n",
       "      <td>43.0</td>\n",
       "      <td>77</td>\n",
       "      <td>34.0</td>\n",
       "      <td>high</td>\n",
       "    </tr>\n",
       "    <tr>\n",
       "      <th>160</th>\n",
       "      <td>genesis alpha one</td>\n",
       "      <td>35.0</td>\n",
       "      <td>69</td>\n",
       "      <td>34.0</td>\n",
       "      <td>high</td>\n",
       "    </tr>\n",
       "    <tr>\n",
       "      <th>17</th>\n",
       "      <td>trials rising</td>\n",
       "      <td>52.0</td>\n",
       "      <td>85</td>\n",
       "      <td>33.0</td>\n",
       "      <td>high</td>\n",
       "    </tr>\n",
       "    <tr>\n",
       "      <th>19</th>\n",
       "      <td>crash team racing: nitro-fueled</td>\n",
       "      <td>51.0</td>\n",
       "      <td>84</td>\n",
       "      <td>33.0</td>\n",
       "      <td>high</td>\n",
       "    </tr>\n",
       "    <tr>\n",
       "      <th>204</th>\n",
       "      <td>narcos: rise of the cartels</td>\n",
       "      <td>30.0</td>\n",
       "      <td>63</td>\n",
       "      <td>33.0</td>\n",
       "      <td>high</td>\n",
       "    </tr>\n",
       "    <tr>\n",
       "      <th>7</th>\n",
       "      <td>fell seal: arbiter's mark</td>\n",
       "      <td>54.0</td>\n",
       "      <td>86</td>\n",
       "      <td>32.0</td>\n",
       "      <td>high</td>\n",
       "    </tr>\n",
       "  </tbody>\n",
       "</table>\n",
       "</div>"
      ],
      "text/plain": [
       "                                               title  user_rating  \\\n",
       "70                                          nba 2k20         11.0   \n",
       "74                                           fifa 20         11.0   \n",
       "75                                     madden nfl 20         20.0   \n",
       "9                                   mortal kombat 11         31.0   \n",
       "115                                      timespinner         23.0   \n",
       "169                          wolfenstein: youngblood         20.0   \n",
       "57                      call of duty: modern warfare         37.0   \n",
       "10                                            nhl 20         42.0   \n",
       "143  disney classic games: aladdin and the lion king         30.0   \n",
       "24                                   far: lone sails         43.0   \n",
       "45                                         dauntless         43.0   \n",
       "106                                 far cry new dawn         37.0   \n",
       "76                                              grid         45.0   \n",
       "248                                         wwe 2k20         11.0   \n",
       "92                   assassin's creed iii remastered         43.0   \n",
       "160                                genesis alpha one         35.0   \n",
       "17                                     trials rising         52.0   \n",
       "19                   crash team racing: nitro-fueled         51.0   \n",
       "204                      narcos: rise of the cartels         30.0   \n",
       "7                          fell seal: arbiter's mark         54.0   \n",
       "\n",
       "     critic_rating  userCritic_difference difference_category  \n",
       "70              80                   69.0      extremely_high  \n",
       "74              79                   68.0      extremely_high  \n",
       "75              79                   59.0      extremely_high  \n",
       "9               86                   55.0      extremely_high  \n",
       "115             74                   51.0      extremely_high  \n",
       "169             68                   48.0           very_high  \n",
       "57              81                   44.0           very_high  \n",
       "10              85                   43.0           very_high  \n",
       "143             72                   42.0           very_high  \n",
       "24              84                   41.0           very_high  \n",
       "45              82                   39.0                high  \n",
       "106             75                   38.0                high  \n",
       "76              79                   34.0                high  \n",
       "248             45                   34.0                high  \n",
       "92              77                   34.0                high  \n",
       "160             69                   34.0                high  \n",
       "17              85                   33.0                high  \n",
       "19              84                   33.0                high  \n",
       "204             63                   33.0                high  \n",
       "7               86                   32.0                high  "
      ]
     },
     "execution_count": 32,
     "metadata": {},
     "output_type": "execute_result"
    }
   ],
   "source": [
    "platform_df['xbox'].head(20)"
   ]
  },
  {
   "cell_type": "code",
   "execution_count": 33,
   "metadata": {},
   "outputs": [
    {
     "data": {
      "text/html": [
       "<div>\n",
       "<style scoped>\n",
       "    .dataframe tbody tr th:only-of-type {\n",
       "        vertical-align: middle;\n",
       "    }\n",
       "\n",
       "    .dataframe tbody tr th {\n",
       "        vertical-align: top;\n",
       "    }\n",
       "\n",
       "    .dataframe thead th {\n",
       "        text-align: right;\n",
       "    }\n",
       "</style>\n",
       "<table border=\"1\" class=\"dataframe\">\n",
       "  <thead>\n",
       "    <tr style=\"text-align: right;\">\n",
       "      <th></th>\n",
       "      <th>title</th>\n",
       "      <th>user_rating</th>\n",
       "      <th>critic_rating</th>\n",
       "      <th>userCritic_difference</th>\n",
       "      <th>difference_category</th>\n",
       "    </tr>\n",
       "  </thead>\n",
       "  <tbody>\n",
       "    <tr>\n",
       "      <th>203</th>\n",
       "      <td>nba 2k20</td>\n",
       "      <td>11.0</td>\n",
       "      <td>74</td>\n",
       "      <td>63.0</td>\n",
       "      <td>extremely_high</td>\n",
       "    </tr>\n",
       "    <tr>\n",
       "      <th>234</th>\n",
       "      <td>fifa 20</td>\n",
       "      <td>11.0</td>\n",
       "      <td>72</td>\n",
       "      <td>61.0</td>\n",
       "      <td>extremely_high</td>\n",
       "    </tr>\n",
       "    <tr>\n",
       "      <th>237</th>\n",
       "      <td>madden nfl 20</td>\n",
       "      <td>12.0</td>\n",
       "      <td>72</td>\n",
       "      <td>60.0</td>\n",
       "      <td>extremely_high</td>\n",
       "    </tr>\n",
       "    <tr>\n",
       "      <th>77</th>\n",
       "      <td>call of duty: modern warfare</td>\n",
       "      <td>25.0</td>\n",
       "      <td>81</td>\n",
       "      <td>56.0</td>\n",
       "      <td>extremely_high</td>\n",
       "    </tr>\n",
       "    <tr>\n",
       "      <th>48</th>\n",
       "      <td>mortal kombat 11</td>\n",
       "      <td>27.0</td>\n",
       "      <td>82</td>\n",
       "      <td>55.0</td>\n",
       "      <td>extremely_high</td>\n",
       "    </tr>\n",
       "    <tr>\n",
       "      <th>279</th>\n",
       "      <td>hearthstone: heroes of warcraft - saviors of u...</td>\n",
       "      <td>19.0</td>\n",
       "      <td>68</td>\n",
       "      <td>49.0</td>\n",
       "      <td>very_high</td>\n",
       "    </tr>\n",
       "    <tr>\n",
       "      <th>19</th>\n",
       "      <td>the sims 4: realm of magic</td>\n",
       "      <td>37.0</td>\n",
       "      <td>85</td>\n",
       "      <td>48.0</td>\n",
       "      <td>very_high</td>\n",
       "    </tr>\n",
       "    <tr>\n",
       "      <th>264</th>\n",
       "      <td>wolfenstein: youngblood</td>\n",
       "      <td>22.0</td>\n",
       "      <td>69</td>\n",
       "      <td>47.0</td>\n",
       "      <td>very_high</td>\n",
       "    </tr>\n",
       "    <tr>\n",
       "      <th>383</th>\n",
       "      <td>left alive</td>\n",
       "      <td>86.0</td>\n",
       "      <td>40</td>\n",
       "      <td>46.0</td>\n",
       "      <td>very_high</td>\n",
       "    </tr>\n",
       "    <tr>\n",
       "      <th>96</th>\n",
       "      <td>bury me, my love</td>\n",
       "      <td>34.0</td>\n",
       "      <td>80</td>\n",
       "      <td>46.0</td>\n",
       "      <td>very_high</td>\n",
       "    </tr>\n",
       "    <tr>\n",
       "      <th>1</th>\n",
       "      <td>red dead redemption 2</td>\n",
       "      <td>48.0</td>\n",
       "      <td>93</td>\n",
       "      <td>45.0</td>\n",
       "      <td>very_high</td>\n",
       "    </tr>\n",
       "    <tr>\n",
       "      <th>235</th>\n",
       "      <td>oninaki</td>\n",
       "      <td>31.0</td>\n",
       "      <td>72</td>\n",
       "      <td>41.0</td>\n",
       "      <td>very_high</td>\n",
       "    </tr>\n",
       "    <tr>\n",
       "      <th>47</th>\n",
       "      <td>the sims 4: discover university</td>\n",
       "      <td>41.0</td>\n",
       "      <td>82</td>\n",
       "      <td>41.0</td>\n",
       "      <td>very_high</td>\n",
       "    </tr>\n",
       "    <tr>\n",
       "      <th>360</th>\n",
       "      <td>wolfenstein: cyberpilot</td>\n",
       "      <td>15.0</td>\n",
       "      <td>54</td>\n",
       "      <td>39.0</td>\n",
       "      <td>high</td>\n",
       "    </tr>\n",
       "    <tr>\n",
       "      <th>187</th>\n",
       "      <td>assassin's creed iii remastered</td>\n",
       "      <td>36.0</td>\n",
       "      <td>75</td>\n",
       "      <td>39.0</td>\n",
       "      <td>high</td>\n",
       "    </tr>\n",
       "    <tr>\n",
       "      <th>181</th>\n",
       "      <td>defector</td>\n",
       "      <td>36.0</td>\n",
       "      <td>75</td>\n",
       "      <td>39.0</td>\n",
       "      <td>high</td>\n",
       "    </tr>\n",
       "    <tr>\n",
       "      <th>68</th>\n",
       "      <td>the elder scrolls online: dragonhold</td>\n",
       "      <td>42.0</td>\n",
       "      <td>81</td>\n",
       "      <td>39.0</td>\n",
       "      <td>high</td>\n",
       "    </tr>\n",
       "    <tr>\n",
       "      <th>130</th>\n",
       "      <td>surviving mars: green planet</td>\n",
       "      <td>40.0</td>\n",
       "      <td>78</td>\n",
       "      <td>38.0</td>\n",
       "      <td>high</td>\n",
       "    </tr>\n",
       "    <tr>\n",
       "      <th>28</th>\n",
       "      <td>dirt rally 2.0</td>\n",
       "      <td>46.0</td>\n",
       "      <td>84</td>\n",
       "      <td>38.0</td>\n",
       "      <td>high</td>\n",
       "    </tr>\n",
       "    <tr>\n",
       "      <th>150</th>\n",
       "      <td>plants vs. zombies: battle for neighborville</td>\n",
       "      <td>40.0</td>\n",
       "      <td>77</td>\n",
       "      <td>37.0</td>\n",
       "      <td>high</td>\n",
       "    </tr>\n",
       "  </tbody>\n",
       "</table>\n",
       "</div>"
      ],
      "text/plain": [
       "                                                 title  user_rating  \\\n",
       "203                                           nba 2k20         11.0   \n",
       "234                                            fifa 20         11.0   \n",
       "237                                      madden nfl 20         12.0   \n",
       "77                        call of duty: modern warfare         25.0   \n",
       "48                                    mortal kombat 11         27.0   \n",
       "279  hearthstone: heroes of warcraft - saviors of u...         19.0   \n",
       "19                          the sims 4: realm of magic         37.0   \n",
       "264                            wolfenstein: youngblood         22.0   \n",
       "383                                         left alive         86.0   \n",
       "96                                    bury me, my love         34.0   \n",
       "1                                red dead redemption 2         48.0   \n",
       "235                                            oninaki         31.0   \n",
       "47                     the sims 4: discover university         41.0   \n",
       "360                            wolfenstein: cyberpilot         15.0   \n",
       "187                    assassin's creed iii remastered         36.0   \n",
       "181                                           defector         36.0   \n",
       "68                the elder scrolls online: dragonhold         42.0   \n",
       "130                       surviving mars: green planet         40.0   \n",
       "28                                      dirt rally 2.0         46.0   \n",
       "150       plants vs. zombies: battle for neighborville         40.0   \n",
       "\n",
       "     critic_rating  userCritic_difference difference_category  \n",
       "203             74                   63.0      extremely_high  \n",
       "234             72                   61.0      extremely_high  \n",
       "237             72                   60.0      extremely_high  \n",
       "77              81                   56.0      extremely_high  \n",
       "48              82                   55.0      extremely_high  \n",
       "279             68                   49.0           very_high  \n",
       "19              85                   48.0           very_high  \n",
       "264             69                   47.0           very_high  \n",
       "383             40                   46.0           very_high  \n",
       "96              80                   46.0           very_high  \n",
       "1               93                   45.0           very_high  \n",
       "235             72                   41.0           very_high  \n",
       "47              82                   41.0           very_high  \n",
       "360             54                   39.0                high  \n",
       "187             75                   39.0                high  \n",
       "181             75                   39.0                high  \n",
       "68              81                   39.0                high  \n",
       "130             78                   38.0                high  \n",
       "28              84                   38.0                high  \n",
       "150             77                   37.0                high  "
      ]
     },
     "execution_count": 33,
     "metadata": {},
     "output_type": "execute_result"
    }
   ],
   "source": [
    "platform_df['pc'].head(20)"
   ]
  },
  {
   "cell_type": "code",
   "execution_count": 34,
   "metadata": {
    "scrolled": true
   },
   "outputs": [
    {
     "data": {
      "text/html": [
       "<div>\n",
       "<style scoped>\n",
       "    .dataframe tbody tr th:only-of-type {\n",
       "        vertical-align: middle;\n",
       "    }\n",
       "\n",
       "    .dataframe tbody tr th {\n",
       "        vertical-align: top;\n",
       "    }\n",
       "\n",
       "    .dataframe thead th {\n",
       "        text-align: right;\n",
       "    }\n",
       "</style>\n",
       "<table border=\"1\" class=\"dataframe\">\n",
       "  <thead>\n",
       "    <tr style=\"text-align: right;\">\n",
       "      <th></th>\n",
       "      <th>title</th>\n",
       "      <th>user_rating</th>\n",
       "      <th>critic_rating</th>\n",
       "      <th>userCritic_difference</th>\n",
       "      <th>difference_category</th>\n",
       "    </tr>\n",
       "  </thead>\n",
       "  <tbody>\n",
       "    <tr>\n",
       "      <th>240</th>\n",
       "      <td>nba 2k20</td>\n",
       "      <td>15.0</td>\n",
       "      <td>73</td>\n",
       "      <td>58.0</td>\n",
       "      <td>extremely_high</td>\n",
       "    </tr>\n",
       "    <tr>\n",
       "      <th>66</th>\n",
       "      <td>pillars of eternity: complete edition</td>\n",
       "      <td>27.0</td>\n",
       "      <td>82</td>\n",
       "      <td>55.0</td>\n",
       "      <td>extremely_high</td>\n",
       "    </tr>\n",
       "    <tr>\n",
       "      <th>94</th>\n",
       "      <td>pokemon sword / shield dual pack</td>\n",
       "      <td>29.0</td>\n",
       "      <td>80</td>\n",
       "      <td>51.0</td>\n",
       "      <td>extremely_high</td>\n",
       "    </tr>\n",
       "    <tr>\n",
       "      <th>416</th>\n",
       "      <td>catan</td>\n",
       "      <td>18.0</td>\n",
       "      <td>61</td>\n",
       "      <td>43.0</td>\n",
       "      <td>very_high</td>\n",
       "    </tr>\n",
       "    <tr>\n",
       "      <th>123</th>\n",
       "      <td>mortal kombat 11</td>\n",
       "      <td>36.0</td>\n",
       "      <td>78</td>\n",
       "      <td>42.0</td>\n",
       "      <td>very_high</td>\n",
       "    </tr>\n",
       "    <tr>\n",
       "      <th>87</th>\n",
       "      <td>pokemon shield</td>\n",
       "      <td>44.0</td>\n",
       "      <td>80</td>\n",
       "      <td>36.0</td>\n",
       "      <td>high</td>\n",
       "    </tr>\n",
       "    <tr>\n",
       "      <th>91</th>\n",
       "      <td>pokemon sword</td>\n",
       "      <td>45.0</td>\n",
       "      <td>80</td>\n",
       "      <td>35.0</td>\n",
       "      <td>high</td>\n",
       "    </tr>\n",
       "    <tr>\n",
       "      <th>492</th>\n",
       "      <td>fifa 20: legacy edition</td>\n",
       "      <td>9.0</td>\n",
       "      <td>43</td>\n",
       "      <td>34.0</td>\n",
       "      <td>high</td>\n",
       "    </tr>\n",
       "    <tr>\n",
       "      <th>476</th>\n",
       "      <td>devil may cry 2</td>\n",
       "      <td>84.0</td>\n",
       "      <td>50</td>\n",
       "      <td>34.0</td>\n",
       "      <td>high</td>\n",
       "    </tr>\n",
       "    <tr>\n",
       "      <th>345</th>\n",
       "      <td>giga wrecker alt.</td>\n",
       "      <td>35.0</td>\n",
       "      <td>67</td>\n",
       "      <td>32.0</td>\n",
       "      <td>high</td>\n",
       "    </tr>\n",
       "    <tr>\n",
       "      <th>359</th>\n",
       "      <td>wolfenstein: youngblood</td>\n",
       "      <td>35.0</td>\n",
       "      <td>65</td>\n",
       "      <td>30.0</td>\n",
       "      <td>high</td>\n",
       "    </tr>\n",
       "    <tr>\n",
       "      <th>280</th>\n",
       "      <td>mutant year zero: road to eden - deluxe edition</td>\n",
       "      <td>42.0</td>\n",
       "      <td>71</td>\n",
       "      <td>29.0</td>\n",
       "      <td>moderate</td>\n",
       "    </tr>\n",
       "    <tr>\n",
       "      <th>237</th>\n",
       "      <td>dauntless</td>\n",
       "      <td>44.0</td>\n",
       "      <td>73</td>\n",
       "      <td>29.0</td>\n",
       "      <td>moderate</td>\n",
       "    </tr>\n",
       "    <tr>\n",
       "      <th>398</th>\n",
       "      <td>rad rodgers: radical edition</td>\n",
       "      <td>34.0</td>\n",
       "      <td>62</td>\n",
       "      <td>28.0</td>\n",
       "      <td>moderate</td>\n",
       "    </tr>\n",
       "    <tr>\n",
       "      <th>432</th>\n",
       "      <td>farming simulator 20</td>\n",
       "      <td>32.0</td>\n",
       "      <td>59</td>\n",
       "      <td>27.0</td>\n",
       "      <td>moderate</td>\n",
       "    </tr>\n",
       "    <tr>\n",
       "      <th>466</th>\n",
       "      <td>whipseey and the lost atlas</td>\n",
       "      <td>80.0</td>\n",
       "      <td>54</td>\n",
       "      <td>26.0</td>\n",
       "      <td>moderate</td>\n",
       "    </tr>\n",
       "    <tr>\n",
       "      <th>263</th>\n",
       "      <td>my time at portia</td>\n",
       "      <td>46.0</td>\n",
       "      <td>72</td>\n",
       "      <td>26.0</td>\n",
       "      <td>moderate</td>\n",
       "    </tr>\n",
       "    <tr>\n",
       "      <th>374</th>\n",
       "      <td>deponia</td>\n",
       "      <td>38.0</td>\n",
       "      <td>64</td>\n",
       "      <td>26.0</td>\n",
       "      <td>moderate</td>\n",
       "    </tr>\n",
       "    <tr>\n",
       "      <th>496</th>\n",
       "      <td>car mechanic simulator</td>\n",
       "      <td>15.0</td>\n",
       "      <td>41</td>\n",
       "      <td>26.0</td>\n",
       "      <td>moderate</td>\n",
       "    </tr>\n",
       "    <tr>\n",
       "      <th>499</th>\n",
       "      <td>blades of time</td>\n",
       "      <td>63.0</td>\n",
       "      <td>38</td>\n",
       "      <td>25.0</td>\n",
       "      <td>moderate</td>\n",
       "    </tr>\n",
       "  </tbody>\n",
       "</table>\n",
       "</div>"
      ],
      "text/plain": [
       "                                               title  user_rating  \\\n",
       "240                                         nba 2k20         15.0   \n",
       "66             pillars of eternity: complete edition         27.0   \n",
       "94                  pokemon sword / shield dual pack         29.0   \n",
       "416                                            catan         18.0   \n",
       "123                                 mortal kombat 11         36.0   \n",
       "87                                    pokemon shield         44.0   \n",
       "91                                     pokemon sword         45.0   \n",
       "492                          fifa 20: legacy edition          9.0   \n",
       "476                                  devil may cry 2         84.0   \n",
       "345                                giga wrecker alt.         35.0   \n",
       "359                          wolfenstein: youngblood         35.0   \n",
       "280  mutant year zero: road to eden - deluxe edition         42.0   \n",
       "237                                        dauntless         44.0   \n",
       "398                     rad rodgers: radical edition         34.0   \n",
       "432                             farming simulator 20         32.0   \n",
       "466                      whipseey and the lost atlas         80.0   \n",
       "263                                my time at portia         46.0   \n",
       "374                                          deponia         38.0   \n",
       "496                           car mechanic simulator         15.0   \n",
       "499                                   blades of time         63.0   \n",
       "\n",
       "     critic_rating  userCritic_difference difference_category  \n",
       "240             73                   58.0      extremely_high  \n",
       "66              82                   55.0      extremely_high  \n",
       "94              80                   51.0      extremely_high  \n",
       "416             61                   43.0           very_high  \n",
       "123             78                   42.0           very_high  \n",
       "87              80                   36.0                high  \n",
       "91              80                   35.0                high  \n",
       "492             43                   34.0                high  \n",
       "476             50                   34.0                high  \n",
       "345             67                   32.0                high  \n",
       "359             65                   30.0                high  \n",
       "280             71                   29.0            moderate  \n",
       "237             73                   29.0            moderate  \n",
       "398             62                   28.0            moderate  \n",
       "432             59                   27.0            moderate  \n",
       "466             54                   26.0            moderate  \n",
       "263             72                   26.0            moderate  \n",
       "374             64                   26.0            moderate  \n",
       "496             41                   26.0            moderate  \n",
       "499             38                   25.0            moderate  "
      ]
     },
     "execution_count": 34,
     "metadata": {},
     "output_type": "execute_result"
    }
   ],
   "source": [
    "platform_df['switch'].head(20)"
   ]
  },
  {
   "cell_type": "code",
   "execution_count": 35,
   "metadata": {},
   "outputs": [
    {
     "data": {
      "text/plain": [
       "title                    hitman hd enhanced collection\n",
       "user_rating                                         46\n",
       "critic_rating                                       66\n",
       "userCritic_difference                               20\n",
       "difference_category                           moderate\n",
       "Name: 187, dtype: object"
      ]
     },
     "execution_count": 35,
     "metadata": {},
     "output_type": "execute_result"
    }
   ],
   "source": [
    "def searchforTitleInPlatform(platformStr_in, game_in):\n",
    "    tem_df = platform_df[platformStr_in][platform_df[platformStr_in]['title'] == game_in]\n",
    "    if len(tem_df) == 1:\n",
    "        return tem_df.iloc[0]\n",
    "    elif len(tem_df) == 0:\n",
    "        return -1\n",
    "    else:\n",
    "        raise ValueError(\"unexpected no of games found\")\n",
    "        \n",
    "searchforTitleInPlatform('xbox', \"hitman hd enhanced collection\")"
   ]
  },
  {
   "cell_type": "markdown",
   "metadata": {},
   "source": [
    "### Minimum Disparity Between Users and Critics"
   ]
  },
  {
   "cell_type": "code",
   "execution_count": 36,
   "metadata": {},
   "outputs": [
    {
     "data": {
      "text/html": [
       "<div>\n",
       "<style scoped>\n",
       "    .dataframe tbody tr th:only-of-type {\n",
       "        vertical-align: middle;\n",
       "    }\n",
       "\n",
       "    .dataframe tbody tr th {\n",
       "        vertical-align: top;\n",
       "    }\n",
       "\n",
       "    .dataframe thead th {\n",
       "        text-align: right;\n",
       "    }\n",
       "</style>\n",
       "<table border=\"1\" class=\"dataframe\">\n",
       "  <thead>\n",
       "    <tr style=\"text-align: right;\">\n",
       "      <th></th>\n",
       "      <th>title</th>\n",
       "      <th>user_rating</th>\n",
       "      <th>critic_rating</th>\n",
       "      <th>userCritic_difference</th>\n",
       "      <th>difference_category</th>\n",
       "    </tr>\n",
       "  </thead>\n",
       "  <tbody>\n",
       "    <tr>\n",
       "      <th>55</th>\n",
       "      <td>five nights at freddy's vr: help wanted</td>\n",
       "      <td>78.0</td>\n",
       "      <td>80</td>\n",
       "      <td>2.0</td>\n",
       "      <td>low</td>\n",
       "    </tr>\n",
       "    <tr>\n",
       "      <th>251</th>\n",
       "      <td>metal wolf chaos xd</td>\n",
       "      <td>62.0</td>\n",
       "      <td>63</td>\n",
       "      <td>1.0</td>\n",
       "      <td>low</td>\n",
       "    </tr>\n",
       "    <tr>\n",
       "      <th>201</th>\n",
       "      <td>erica</td>\n",
       "      <td>70.0</td>\n",
       "      <td>69</td>\n",
       "      <td>1.0</td>\n",
       "      <td>low</td>\n",
       "    </tr>\n",
       "    <tr>\n",
       "      <th>113</th>\n",
       "      <td>blazing chrome</td>\n",
       "      <td>75.0</td>\n",
       "      <td>76</td>\n",
       "      <td>1.0</td>\n",
       "      <td>low</td>\n",
       "    </tr>\n",
       "    <tr>\n",
       "      <th>207</th>\n",
       "      <td>sea of solitude</td>\n",
       "      <td>68.0</td>\n",
       "      <td>69</td>\n",
       "      <td>1.0</td>\n",
       "      <td>low</td>\n",
       "    </tr>\n",
       "    <tr>\n",
       "      <th>88</th>\n",
       "      <td>blasphemous</td>\n",
       "      <td>77.0</td>\n",
       "      <td>78</td>\n",
       "      <td>1.0</td>\n",
       "      <td>low</td>\n",
       "    </tr>\n",
       "    <tr>\n",
       "      <th>339</th>\n",
       "      <td>where the bees make honey</td>\n",
       "      <td>32.0</td>\n",
       "      <td>31</td>\n",
       "      <td>1.0</td>\n",
       "      <td>low</td>\n",
       "    </tr>\n",
       "    <tr>\n",
       "      <th>22</th>\n",
       "      <td>bloodstained: ritual of the night</td>\n",
       "      <td>84.0</td>\n",
       "      <td>83</td>\n",
       "      <td>1.0</td>\n",
       "      <td>low</td>\n",
       "    </tr>\n",
       "    <tr>\n",
       "      <th>317</th>\n",
       "      <td>eden-tomorrow</td>\n",
       "      <td>53.0</td>\n",
       "      <td>52</td>\n",
       "      <td>1.0</td>\n",
       "      <td>low</td>\n",
       "    </tr>\n",
       "    <tr>\n",
       "      <th>78</th>\n",
       "      <td>knights and bikes</td>\n",
       "      <td>78.0</td>\n",
       "      <td>79</td>\n",
       "      <td>1.0</td>\n",
       "      <td>low</td>\n",
       "    </tr>\n",
       "    <tr>\n",
       "      <th>38</th>\n",
       "      <td>efootball pes 2020</td>\n",
       "      <td>81.0</td>\n",
       "      <td>82</td>\n",
       "      <td>1.0</td>\n",
       "      <td>low</td>\n",
       "    </tr>\n",
       "    <tr>\n",
       "      <th>75</th>\n",
       "      <td>children of morta</td>\n",
       "      <td>78.0</td>\n",
       "      <td>79</td>\n",
       "      <td>1.0</td>\n",
       "      <td>low</td>\n",
       "    </tr>\n",
       "    <tr>\n",
       "      <th>306</th>\n",
       "      <td>ice age: scrat's nutty adventure</td>\n",
       "      <td>56.0</td>\n",
       "      <td>55</td>\n",
       "      <td>1.0</td>\n",
       "      <td>low</td>\n",
       "    </tr>\n",
       "    <tr>\n",
       "      <th>110</th>\n",
       "      <td>motogp 19</td>\n",
       "      <td>76.0</td>\n",
       "      <td>76</td>\n",
       "      <td>0.0</td>\n",
       "      <td>low</td>\n",
       "    </tr>\n",
       "    <tr>\n",
       "      <th>188</th>\n",
       "      <td>lost ember</td>\n",
       "      <td>70.0</td>\n",
       "      <td>70</td>\n",
       "      <td>0.0</td>\n",
       "      <td>low</td>\n",
       "    </tr>\n",
       "    <tr>\n",
       "      <th>198</th>\n",
       "      <td>chocobo's mystery dungeon: every buddy!</td>\n",
       "      <td>69.0</td>\n",
       "      <td>69</td>\n",
       "      <td>0.0</td>\n",
       "      <td>low</td>\n",
       "    </tr>\n",
       "    <tr>\n",
       "      <th>330</th>\n",
       "      <td>submersed</td>\n",
       "      <td>44.0</td>\n",
       "      <td>44</td>\n",
       "      <td>0.0</td>\n",
       "      <td>low</td>\n",
       "    </tr>\n",
       "    <tr>\n",
       "      <th>214</th>\n",
       "      <td>effie</td>\n",
       "      <td>68.0</td>\n",
       "      <td>68</td>\n",
       "      <td>0.0</td>\n",
       "      <td>low</td>\n",
       "    </tr>\n",
       "    <tr>\n",
       "      <th>76</th>\n",
       "      <td>star wars jedi: fallen order</td>\n",
       "      <td>79.0</td>\n",
       "      <td>79</td>\n",
       "      <td>0.0</td>\n",
       "      <td>low</td>\n",
       "    </tr>\n",
       "    <tr>\n",
       "      <th>56</th>\n",
       "      <td>blood &amp; truth</td>\n",
       "      <td>80.0</td>\n",
       "      <td>80</td>\n",
       "      <td>0.0</td>\n",
       "      <td>low</td>\n",
       "    </tr>\n",
       "  </tbody>\n",
       "</table>\n",
       "</div>"
      ],
      "text/plain": [
       "                                       title  user_rating  critic_rating  \\\n",
       "55   five nights at freddy's vr: help wanted         78.0             80   \n",
       "251                      metal wolf chaos xd         62.0             63   \n",
       "201                                    erica         70.0             69   \n",
       "113                           blazing chrome         75.0             76   \n",
       "207                          sea of solitude         68.0             69   \n",
       "88                               blasphemous         77.0             78   \n",
       "339                where the bees make honey         32.0             31   \n",
       "22         bloodstained: ritual of the night         84.0             83   \n",
       "317                            eden-tomorrow         53.0             52   \n",
       "78                         knights and bikes         78.0             79   \n",
       "38                        efootball pes 2020         81.0             82   \n",
       "75                         children of morta         78.0             79   \n",
       "306         ice age: scrat's nutty adventure         56.0             55   \n",
       "110                                motogp 19         76.0             76   \n",
       "188                               lost ember         70.0             70   \n",
       "198  chocobo's mystery dungeon: every buddy!         69.0             69   \n",
       "330                                submersed         44.0             44   \n",
       "214                                    effie         68.0             68   \n",
       "76              star wars jedi: fallen order         79.0             79   \n",
       "56                             blood & truth         80.0             80   \n",
       "\n",
       "     userCritic_difference difference_category  \n",
       "55                     2.0                 low  \n",
       "251                    1.0                 low  \n",
       "201                    1.0                 low  \n",
       "113                    1.0                 low  \n",
       "207                    1.0                 low  \n",
       "88                     1.0                 low  \n",
       "339                    1.0                 low  \n",
       "22                     1.0                 low  \n",
       "317                    1.0                 low  \n",
       "78                     1.0                 low  \n",
       "38                     1.0                 low  \n",
       "75                     1.0                 low  \n",
       "306                    1.0                 low  \n",
       "110                    0.0                 low  \n",
       "188                    0.0                 low  \n",
       "198                    0.0                 low  \n",
       "330                    0.0                 low  \n",
       "214                    0.0                 low  \n",
       "76                     0.0                 low  \n",
       "56                     0.0                 low  "
      ]
     },
     "execution_count": 36,
     "metadata": {},
     "output_type": "execute_result"
    }
   ],
   "source": [
    "platform_df['ps4'].tail(20)"
   ]
  },
  {
   "cell_type": "markdown",
   "metadata": {},
   "source": [
    "### Games Which Got Higher Ratings From Users Than From Critics"
   ]
  },
  {
   "cell_type": "code",
   "execution_count": 37,
   "metadata": {},
   "outputs": [
    {
     "data": {
      "text/html": [
       "<div>\n",
       "<style scoped>\n",
       "    .dataframe tbody tr th:only-of-type {\n",
       "        vertical-align: middle;\n",
       "    }\n",
       "\n",
       "    .dataframe tbody tr th {\n",
       "        vertical-align: top;\n",
       "    }\n",
       "\n",
       "    .dataframe thead th {\n",
       "        text-align: right;\n",
       "    }\n",
       "</style>\n",
       "<table border=\"1\" class=\"dataframe\">\n",
       "  <thead>\n",
       "    <tr style=\"text-align: right;\">\n",
       "      <th></th>\n",
       "      <th>title</th>\n",
       "      <th>user_rating</th>\n",
       "      <th>critic_rating</th>\n",
       "      <th>userCritic_difference</th>\n",
       "      <th>difference_category</th>\n",
       "    </tr>\n",
       "  </thead>\n",
       "  <tbody>\n",
       "    <tr>\n",
       "      <th>383</th>\n",
       "      <td>left alive</td>\n",
       "      <td>86.0</td>\n",
       "      <td>40</td>\n",
       "      <td>46.0</td>\n",
       "      <td>very_high</td>\n",
       "    </tr>\n",
       "    <tr>\n",
       "      <th>376</th>\n",
       "      <td>paranoia: happiness is mandatory</td>\n",
       "      <td>71.0</td>\n",
       "      <td>47</td>\n",
       "      <td>24.0</td>\n",
       "      <td>moderate</td>\n",
       "    </tr>\n",
       "    <tr>\n",
       "      <th>355</th>\n",
       "      <td>little misfortune</td>\n",
       "      <td>80.0</td>\n",
       "      <td>57</td>\n",
       "      <td>23.0</td>\n",
       "      <td>moderate</td>\n",
       "    </tr>\n",
       "    <tr>\n",
       "      <th>348</th>\n",
       "      <td>terminator: resistance</td>\n",
       "      <td>82.0</td>\n",
       "      <td>59</td>\n",
       "      <td>23.0</td>\n",
       "      <td>moderate</td>\n",
       "    </tr>\n",
       "    <tr>\n",
       "      <th>384</th>\n",
       "      <td>eternity: the last unicorn</td>\n",
       "      <td>61.0</td>\n",
       "      <td>39</td>\n",
       "      <td>22.0</td>\n",
       "      <td>moderate</td>\n",
       "    </tr>\n",
       "    <tr>\n",
       "      <th>341</th>\n",
       "      <td>summer catchers</td>\n",
       "      <td>83.0</td>\n",
       "      <td>61</td>\n",
       "      <td>22.0</td>\n",
       "      <td>moderate</td>\n",
       "    </tr>\n",
       "    <tr>\n",
       "      <th>365</th>\n",
       "      <td>bannermen</td>\n",
       "      <td>72.0</td>\n",
       "      <td>52</td>\n",
       "      <td>20.0</td>\n",
       "      <td>moderate</td>\n",
       "    </tr>\n",
       "    <tr>\n",
       "      <th>374</th>\n",
       "      <td>i love you, colonel sanders! a finger lickin' ...</td>\n",
       "      <td>68.0</td>\n",
       "      <td>50</td>\n",
       "      <td>18.0</td>\n",
       "      <td>low</td>\n",
       "    </tr>\n",
       "    <tr>\n",
       "      <th>344</th>\n",
       "      <td>medieval kingdom wars</td>\n",
       "      <td>77.0</td>\n",
       "      <td>60</td>\n",
       "      <td>17.0</td>\n",
       "      <td>low</td>\n",
       "    </tr>\n",
       "    <tr>\n",
       "      <th>302</th>\n",
       "      <td>outbuddies</td>\n",
       "      <td>83.0</td>\n",
       "      <td>66</td>\n",
       "      <td>17.0</td>\n",
       "      <td>low</td>\n",
       "    </tr>\n",
       "  </tbody>\n",
       "</table>\n",
       "</div>"
      ],
      "text/plain": [
       "                                                 title  user_rating  \\\n",
       "383                                         left alive         86.0   \n",
       "376                   paranoia: happiness is mandatory         71.0   \n",
       "355                                  little misfortune         80.0   \n",
       "348                             terminator: resistance         82.0   \n",
       "384                         eternity: the last unicorn         61.0   \n",
       "341                                    summer catchers         83.0   \n",
       "365                                          bannermen         72.0   \n",
       "374  i love you, colonel sanders! a finger lickin' ...         68.0   \n",
       "344                              medieval kingdom wars         77.0   \n",
       "302                                         outbuddies         83.0   \n",
       "\n",
       "     critic_rating  userCritic_difference difference_category  \n",
       "383             40                   46.0           very_high  \n",
       "376             47                   24.0            moderate  \n",
       "355             57                   23.0            moderate  \n",
       "348             59                   23.0            moderate  \n",
       "384             39                   22.0            moderate  \n",
       "341             61                   22.0            moderate  \n",
       "365             52                   20.0            moderate  \n",
       "374             50                   18.0                 low  \n",
       "344             60                   17.0                 low  \n",
       "302             66                   17.0                 low  "
      ]
     },
     "execution_count": 37,
     "metadata": {},
     "output_type": "execute_result"
    }
   ],
   "source": [
    "def higherUserRatings(platform_in):\n",
    "    return platform_df[platform_in][platform_df[platform_in]['user_rating'] > platform_df[platform_in]['critic_rating']].head(10)\n",
    "    \n",
    "higherUserRatings('pc')"
   ]
  },
  {
   "cell_type": "markdown",
   "metadata": {},
   "source": [
    "___"
   ]
  },
  {
   "cell_type": "markdown",
   "metadata": {},
   "source": [
    "## A Single Permutation Shuffle Based Trial With Histogram & Probability Density Function\n",
    "We compare platforms distributions through permutation-test. It is a more systematic approach than relying upon intuition of visualizing and comparing distributions. Given two platforms, We concatenate them into one group. That group's elements are randomly shuffled. Then we divide the group into new two groups. We compare the two distributions of the new two groups and assess whether the insight is still present as in the case of the two original groups of platforms. If the insight is not present in the two new groups, then that would count an evidence on behalf of our hypothesis. That is, The insight (difference in distribution) of original distributions is attributed to the two platforms. In addition, We consider average a p-value of a distribution and utilize it in computing disparity between distributions. Next, We apply this method iteratively."
   ]
  },
  {
   "cell_type": "markdown",
   "metadata": {},
   "source": [
    "### Ensure Series Data are Ascendingly Ordered"
   ]
  },
  {
   "cell_type": "code",
   "execution_count": 38,
   "metadata": {
    "scrolled": false
   },
   "outputs": [
    {
     "name": "stdout",
     "output_type": "stream",
     "text": [
      "93     69.0\n",
      "82     68.0\n",
      "116    60.0\n",
      "79     52.0\n",
      "172    51.0\n",
      "       ... \n",
      "198     0.0\n",
      "330     0.0\n",
      "214     0.0\n",
      "76      0.0\n",
      "56      0.0\n",
      "Name: userCritic_difference, Length: 310, dtype: float64\n",
      "\n",
      "240    58.0\n",
      "66     55.0\n",
      "94     51.0\n",
      "416    43.0\n",
      "123    42.0\n",
      "       ... \n",
      "443     0.0\n",
      "89      0.0\n",
      "106     0.0\n",
      "53      0.0\n",
      "208     0.0\n",
      "Name: userCritic_difference, Length: 364, dtype: float64\n"
     ]
    }
   ],
   "source": [
    "print(platform_df['ps4']['userCritic_difference'])\n",
    "print(\"\")\n",
    "print(platform_df['switch']['userCritic_difference'])"
   ]
  },
  {
   "cell_type": "markdown",
   "metadata": {},
   "source": [
    "### PS4 Distribution"
   ]
  },
  {
   "cell_type": "code",
   "execution_count": 39,
   "metadata": {},
   "outputs": [
    {
     "data": {
      "image/png": "[encoded data removed]",
      "text/plain": [
       "<Figure size 720x576 with 1 Axes>"
      ]
     },
     "metadata": {
      "needs_background": "light"
     },
     "output_type": "display_data"
    }
   ],
   "source": [
    "histogramPdfGraph.showHistPdf(platform_df['ps4']['userCritic_difference'], 30, '#e3e2e2', 'black', 'disparity', 'ps4', 10, 8)"
   ]
  },
  {
   "cell_type": "markdown",
   "metadata": {},
   "source": [
    "### Average of PS4's Disparity"
   ]
  },
  {
   "cell_type": "code",
   "execution_count": 40,
   "metadata": {},
   "outputs": [
    {
     "data": {
      "text/plain": [
       "15.893548387096773"
      ]
     },
     "execution_count": 40,
     "metadata": {},
     "output_type": "execute_result"
    }
   ],
   "source": [
    "platform_df['ps4']['userCritic_difference'].mean()"
   ]
  },
  {
   "cell_type": "markdown",
   "metadata": {},
   "source": [
    "### Switch Distribution"
   ]
  },
  {
   "cell_type": "code",
   "execution_count": 41,
   "metadata": {},
   "outputs": [
    {
     "data": {
      "image/png": "[encoded data removed]",
      "text/plain": [
       "<Figure size 720x576 with 1 Axes>"
      ]
     },
     "metadata": {
      "needs_background": "light"
     },
     "output_type": "display_data"
    }
   ],
   "source": [
    "histogramPdfGraph.showHistPdf(platform_df['switch']['userCritic_difference'], 30, '#e3e2e2', 'black', 'disparity', 'switch', 10, 8)"
   ]
  },
  {
   "cell_type": "markdown",
   "metadata": {},
   "source": [
    "### Average of Switch Disparity"
   ]
  },
  {
   "cell_type": "code",
   "execution_count": 42,
   "metadata": {},
   "outputs": [
    {
     "data": {
      "text/plain": [
       "6.876373626373627"
      ]
     },
     "execution_count": 42,
     "metadata": {},
     "output_type": "execute_result"
    }
   ],
   "source": [
    "platform_df['switch']['userCritic_difference'].mean()"
   ]
  },
  {
   "cell_type": "markdown",
   "metadata": {},
   "source": [
    "### Conclusion\n",
    "- The difference between _ps4_ and _switch_ distributions is notable\n",
    "- The difference between _ps4_ and _switch_ means is about 9"
   ]
  },
  {
   "cell_type": "markdown",
   "metadata": {},
   "source": [
    "### Concatenate Both PS4 and Switch"
   ]
  },
  {
   "cell_type": "code",
   "execution_count": 43,
   "metadata": {},
   "outputs": [],
   "source": [
    "bothGroups = pd.concat([platform_df['switch']['userCritic_difference'], platform_df['ps4']['userCritic_difference']])"
   ]
  },
  {
   "cell_type": "markdown",
   "metadata": {},
   "source": [
    "### Shuffle and Divide"
   ]
  },
  {
   "cell_type": "code",
   "execution_count": 44,
   "metadata": {},
   "outputs": [],
   "source": [
    "# permutation based shuffling\n",
    "rng = np.random.default_rng()\n",
    "bothGroups = rng.permutation(bothGroups)\n",
    "# divide into two groups\n",
    "firstGroup = bothGroups[:int(len(bothGroups)/2)]\n",
    "secondGroup = bothGroups[int(len(bothGroups)/2):]"
   ]
  },
  {
   "cell_type": "markdown",
   "metadata": {},
   "source": [
    "### First Group Distribution"
   ]
  },
  {
   "cell_type": "code",
   "execution_count": 45,
   "metadata": {},
   "outputs": [
    {
     "data": {
      "image/png": "[encoded data removed]",
      "text/plain": [
       "<Figure size 720x576 with 1 Axes>"
      ]
     },
     "metadata": {
      "needs_background": "light"
     },
     "output_type": "display_data"
    }
   ],
   "source": [
    "histogramPdfGraph.showHistPdf(firstGroup, 30, '#e3e2e2', 'black', 'disparity', 'first group', 10, 8)"
   ]
  },
  {
   "cell_type": "markdown",
   "metadata": {},
   "source": [
    "### First Group Average"
   ]
  },
  {
   "cell_type": "code",
   "execution_count": 46,
   "metadata": {},
   "outputs": [
    {
     "data": {
      "text/plain": [
       "9.928783382789318"
      ]
     },
     "execution_count": 46,
     "metadata": {},
     "output_type": "execute_result"
    }
   ],
   "source": [
    "firstGroup.mean()"
   ]
  },
  {
   "cell_type": "markdown",
   "metadata": {},
   "source": [
    "### Second Group Distribution"
   ]
  },
  {
   "cell_type": "code",
   "execution_count": 47,
   "metadata": {},
   "outputs": [
    {
     "data": {
      "image/png": "[encoded data removed]",
      "text/plain": [
       "<Figure size 720x576 with 1 Axes>"
      ]
     },
     "metadata": {
      "needs_background": "light"
     },
     "output_type": "display_data"
    }
   ],
   "source": [
    "histogramPdfGraph.showHistPdf(secondGroup, 30, '#e3e2e2', 'black', 'disparity', 'second group', 10, 8)"
   ]
  },
  {
   "cell_type": "markdown",
   "metadata": {},
   "source": [
    "### Second Group Average"
   ]
  },
  {
   "cell_type": "code",
   "execution_count": 48,
   "metadata": {},
   "outputs": [
    {
     "data": {
      "text/plain": [
       "12.118694362017804"
      ]
     },
     "execution_count": 48,
     "metadata": {},
     "output_type": "execute_result"
    }
   ],
   "source": [
    "secondGroup.mean()"
   ]
  },
  {
   "cell_type": "markdown",
   "metadata": {},
   "source": [
    "### Conclusion\n",
    "- The difference between first and second groups distributions is not notable alike ps4 and switch\n",
    "- The difference between first and second groups means is much less than disparity between ps4 and switch distributions"
   ]
  },
  {
   "cell_type": "markdown",
   "metadata": {},
   "source": [
    "___"
   ]
  },
  {
   "cell_type": "markdown",
   "metadata": {},
   "source": [
    "## Permutation Test and P-Value Based Statistical Significance\n",
    "We apply the above method iteratively. The more tests, The more confident we are of our hypothesis. That is, The pattern of two distributions is attributed to the difference in two platforms."
   ]
  },
  {
   "cell_type": "code",
   "execution_count": 61,
   "metadata": {},
   "outputs": [],
   "source": [
    "# computes average of a list\n",
    "def avgOfList(list_in):\n",
    "    return pd.Series(list_in).mean()"
   ]
  },
  {
   "cell_type": "code",
   "execution_count": 72,
   "metadata": {},
   "outputs": [
    {
     "name": "stdout",
     "output_type": "stream",
     "text": [
      "ps4 xbox\n",
      "0.4872043010752686\n",
      "\n",
      "ps4 switch\n",
      "8.135987817102968\n",
      "\n",
      "ps4 pc\n",
      "1.6799676922757263\n",
      "\n",
      "xbox switch\n",
      "7.305647096989032\n",
      "\n",
      "xbox pc\n",
      "0.6697090501544217\n",
      "\n",
      "switch pc\n",
      "6.10385164806027\n",
      "\n"
     ]
    }
   ],
   "source": [
    "# loop on pairs of platforms\n",
    "for idx, platformName in enumerate(platformsNames):\n",
    "    for idx_, platformName_ in enumerate(platformsNames):\n",
    "        # compare only unique pairs\n",
    "        if idx_ > idx:\n",
    "            # print pairs of platforms which are compared\n",
    "            print(platformName, platformName_)\n",
    "            # apply test for 25 iterations on first and second platforms of the nested loop\n",
    "            testResults = permTest.permutationTest(25, platform_df[platformName]['userCritic_difference'], platform_df[platformName_]['userCritic_difference'])\n",
    "            # print results average\n",
    "            print(avgOfList(testResults))\n",
    "            print(\"\")"
   ]
  },
  {
   "cell_type": "markdown",
   "metadata": {},
   "source": [
    "### Conclusion\n",
    "- switch has greatest statistical significance in comparison with other platforms"
   ]
  },
  {
   "cell_type": "markdown",
   "metadata": {},
   "source": [
    "___"
   ]
  },
  {
   "cell_type": "markdown",
   "metadata": {},
   "source": [
    "## Comparing Pairs of Platforms\n",
    "We wish to compare ratings among platforms on the same games. We compare only two platforms with each other. So, for each pairs of platforms, we compute the distance between the two platforms on _users ratings_ , _critics ratings_ , and _disparity between users and critics_ . in other words, ratings of some platform subtracted from the other. note that the distance of pairs (a,b) is the same as (b,a), so we restrict our pairs on unique ones only. Finally, instead of re-storing data, we compute on stored data's indices\n",
    "\n",
    "- **First**, same games among platforms are matched. uncommon games among the two platforms are discarded\n",
    "- **Second**, ratings distance between each platforms pairs are computed"
   ]
  },
  {
   "cell_type": "markdown",
   "metadata": {},
   "source": [
    "### First. Match Games on Platforms Pairs"
   ]
  },
  {
   "cell_type": "code",
   "execution_count": null,
   "metadata": {},
   "outputs": [],
   "source": [
    "# a map of platforms pairs to the two platforms distance dataframe\n",
    "platformsPairs_df = {}\n",
    "\n",
    "# assesses how close two strings are\n",
    "from difflib import SequenceMatcher\n",
    "def similar(a, b):\n",
    "    return SequenceMatcher(None, a, b).ratio()\n",
    "\n",
    "# loop on pairs of platforms\n",
    "for idx, platformName in enumerate(platform_df):\n",
    "    for idx_, platformName_ in enumerate(platform_df):\n",
    "        # compare only unique pairs\n",
    "        if idx_ > idx:\n",
    "            # get dataframe of the first platform\n",
    "            df = platform_df[platformName]\n",
    "            # get dataframe of the second platform\n",
    "            df_ = platform_df[platformName_]\n",
    "\n",
    "            # recall that we work on indices instead of repeating already stored data\n",
    "\n",
    "            # first platform's indices\n",
    "            firstColumn = df.index\n",
    "            # second platform's indices\n",
    "            secondColumn = df_.index\n",
    "            \n",
    "            # column name corresponding to the first platform\n",
    "            firstColumnStr = platformName + \"_index\"\n",
    "            # column name corresponding to the second platform\n",
    "            secondColumnStr = platformName_ + \"_index\"\n",
    "\n",
    "            # construct a dataframe of the cartesian product of two platforms indices\n",
    "            # cartesian product is constructed as multiindex first\n",
    "            index = pd.MultiIndex.from_product([firstColumn, secondColumn], names = [firstColumnStr, secondColumnStr])\n",
    "            # move cartesian product indices to concrete columns data\n",
    "            tem_df = pd.DataFrame(index = index).reset_index()\n",
    "            \n",
    "            # compute similarity between each pairs of the cartesian product corresponding game titles\n",
    "            # in lambda, given the index, map it to the game's title, then finally apply similar function\n",
    "            tem_df['similarity'] = tem_df.apply(lambda x: similar(df.loc[x[firstColumnStr], 'title'], df_.loc[x[secondColumnStr], 'title']), axis=1)\n",
    "\n",
    "            # group according to left-hand-side game title\n",
    "            # each group represents a comparison of one game from the first platform up against all other games from the second platform\n",
    "            grouped = tem_df.groupby([firstColumnStr])\n",
    "            # filter a group into records of maximum similarity. we expect only one is obtained\n",
    "            # each group maps a game from the first platform to another game from the second platform whose similarity is maximum\n",
    "            applied = grouped.apply(lambda g: g[g['similarity'] == g['similarity'].max()])\n",
    "            # remove index resulted by groupby\n",
    "            tem_df = applied.reset_index(drop=True)\n",
    "            \n",
    "            # store the dataframe by both platforms names\n",
    "            platformsPairs_df[platformName + '_' + platformName_] = tem_df"
   ]
  },
  {
   "cell_type": "code",
   "execution_count": null,
   "metadata": {},
   "outputs": [],
   "source": [
    "# check keys of our new dictionary\n",
    "platformsPairs_df.keys()"
   ]
  },
  {
   "cell_type": "code",
   "execution_count": null,
   "metadata": {},
   "outputs": [],
   "source": [
    "# take a look at one of them\n",
    "platformsPairs_df['ps4_xbox']"
   ]
  },
  {
   "cell_type": "code",
   "execution_count": null,
   "metadata": {},
   "outputs": [],
   "source": [
    "# take a look at two games titles, and see their corresponding similarity\n",
    "# last record is chosen here\n",
    "print(platform_df['ps4'].loc[339, 'title'])\n",
    "print(platform_df['switch'].loc[297, 'title'])"
   ]
  },
  {
   "cell_type": "code",
   "execution_count": null,
   "metadata": {},
   "outputs": [],
   "source": [
    "# discard any pairs whose similarity is not equal to 1\n",
    "# in our case, games names are exactly the same among platforms. However, that might not be always the case\n",
    "\n",
    "# for each pair of platforms\n",
    "for pair in platformsPairs_df:\n",
    "    # filter only records whose similariy is equal to 1\n",
    "    platformsPairs_df[pair] = platformsPairs_df[pair][platformsPairs_df[pair]['similarity'] == 1]"
   ]
  },
  {
   "cell_type": "code",
   "execution_count": null,
   "metadata": {},
   "outputs": [],
   "source": [
    "# take a look, again\n",
    "platformsPairs_df['ps4_switch']"
   ]
  },
  {
   "cell_type": "markdown",
   "metadata": {},
   "source": [
    "### Second. Compute Difference of Each Pair of Platforms"
   ]
  },
  {
   "cell_type": "code",
   "execution_count": null,
   "metadata": {},
   "outputs": [],
   "source": [
    "# a map of platforms pairs to dataframe showing computed results\n",
    "platformsPairs_diff = {}\n",
    "\n",
    "# loop on platforms pairs\n",
    "for idx, name in enumerate(platformsNames):\n",
    "    for idx_, name_ in enumerate(platformsNames):\n",
    "        # consider only unique pairs\n",
    "        if idx_ > idx:\n",
    "            # meaningful name of the pair which corresponds to other constructed dataframes\n",
    "            pairStr = name + '_' + name_\n",
    "            \n",
    "            # get games titles from the first platform. same as obtaining them from the second platform\n",
    "            # platform name is appended by _index corresponding platformsPairs_df. an index is returned\n",
    "            # the returned index is mapped to the game's titles by platform_df\n",
    "            # note that lambda is applied on each record\n",
    "            title = platformsPairs_df[pairStr].apply(lambda x: platform_df[name].loc[x[name+\"_index\"], 'title'], axis=1)\n",
    "            \n",
    "            # compute distance of ratings of the two platforms\n",
    "            # index is returned from platformsPairs_df, then mapped to the numeric value of rating\n",
    "            # distance is computed by the two game's rating on the two platforms\n",
    "            user_diff = platformsPairs_df[pairStr].apply(lambda x: abs(platform_df[name].loc[x[name+\"_index\"], 'user_rating'] - platform_df[name_].loc[x[name_+\"_index\"], 'user_rating']), axis=1)\n",
    "            critic_diff = platformsPairs_df[pairStr].apply(lambda x: abs(platform_df[name].loc[x[name+\"_index\"], 'critic_rating'] - platform_df[name_].loc[x[name_+\"_index\"], 'critic_rating']), axis=1)\n",
    "            userCritic_diff = platformsPairs_df[pairStr].apply(lambda x: abs(platform_df[name].loc[x[name+\"_index\"], 'userCritic_difference'] - platform_df[name_].loc[x[name_+\"_index\"], 'userCritic_difference']), axis=1)\n",
    "            \n",
    "            # construct a new dataframe of results just computed\n",
    "            platformsPairs_diff[pairStr] = pd.DataFrame({\n",
    "                'title': title,\n",
    "                'user_diff': user_diff,\n",
    "                'critic_diff': critic_diff,\n",
    "                'userCritic_diff': userCritic_diff\n",
    "            }\n",
    "            )"
   ]
  },
  {
   "cell_type": "code",
   "execution_count": null,
   "metadata": {},
   "outputs": [],
   "source": [
    "platformsPairs_diff.keys()"
   ]
  },
  {
   "cell_type": "code",
   "execution_count": null,
   "metadata": {},
   "outputs": [],
   "source": [
    "# take a look\n",
    "platformsPairs_diff['ps4_xbox'].sort_values(by='userCritic_diff', ascending=False).head(15)"
   ]
  },
  {
   "cell_type": "markdown",
   "metadata": {},
   "source": [
    "### Basic Stat on Platforms Pairs"
   ]
  },
  {
   "cell_type": "code",
   "execution_count": null,
   "metadata": {
    "scrolled": true
   },
   "outputs": [],
   "source": [
    "for pair in platformsPairs_df:\n",
    "    print(\"\\n\", platformsPairs_df[pair].describe())"
   ]
  },
  {
   "cell_type": "markdown",
   "metadata": {},
   "source": [
    "## Visualizing Platforms Pairs (repeated poor software engineering)"
   ]
  },
  {
   "cell_type": "markdown",
   "metadata": {},
   "source": [
    "### Discretizing Categories"
   ]
  },
  {
   "cell_type": "code",
   "execution_count": null,
   "metadata": {},
   "outputs": [],
   "source": [
    "# map a value to its interval\n",
    "def numToCat(row):\n",
    "    row_userCriticDiff = row['userCritic_diff']\n",
    "    \n",
    "    # check if value is in between two boundaries\n",
    "    for idx in range(len(intervals_categories)-1):\n",
    "        if row_userCriticDiff >= intervals_categories[idx] and row_userCriticDiff < intervals_categories[idx+1]:\n",
    "            return categories.iloc[idx]\n",
    "    # if not, then check if it is greater than latest boundary\n",
    "    lastIndex = len(categories)-1\n",
    "    if row_userCriticDiff >= intervals_categories[lastIndex]:\n",
    "        return categories.iloc[lastIndex]\n",
    "    # if not either, raise error\n",
    "    raise ValueError(\"unexpected value within supposed ranges\")"
   ]
  },
  {
   "cell_type": "code",
   "execution_count": null,
   "metadata": {},
   "outputs": [],
   "source": [
    "# compute categories as defined earlier\n",
    "\n",
    "# loop on platforms\n",
    "for pair_diff in platformsPairs_diff:\n",
    "    # get dataframe of the platform\n",
    "    df = platformsPairs_diff[pair_diff]\n",
    "    # add category based on difference just defined\n",
    "    df['difference_category'] = df.apply(lambda x: numToCat(x), axis=1)\n",
    "    \n",
    "    # let categories be recognized by pandas\n",
    "    df['difference_category'] = df['difference_category'].astype(\"category\")\n",
    "    \n",
    "    # re-order categories\n",
    "    df['difference_category'] = df['difference_category'].cat.set_categories(categories)\n",
    "    \n",
    "    # assign back to our dataframe\n",
    "    platformsPairs_diff[pair_diff] = df"
   ]
  },
  {
   "cell_type": "code",
   "execution_count": null,
   "metadata": {},
   "outputs": [],
   "source": [
    "platformsPairs_diff['ps4_xbox'].sort_values(by='difference_category', ascending=False).head(15)"
   ]
  },
  {
   "cell_type": "markdown",
   "metadata": {},
   "source": [
    "### Grouped Bar"
   ]
  },
  {
   "cell_type": "code",
   "execution_count": null,
   "metadata": {},
   "outputs": [],
   "source": [
    "pair_categoriesCount = transform.map_columnCount(platformsPairs_diff, 'difference_category')"
   ]
  },
  {
   "cell_type": "code",
   "execution_count": null,
   "metadata": {},
   "outputs": [],
   "source": [
    "pair_categoriesCount"
   ]
  },
  {
   "cell_type": "code",
   "execution_count": null,
   "metadata": {},
   "outputs": [],
   "source": [
    "categories_size = transform.map_categoriesSize(categories, pair_categoriesCount, pair_categoriesCount)"
   ]
  },
  {
   "cell_type": "code",
   "execution_count": null,
   "metadata": {},
   "outputs": [],
   "source": [
    "groupedBarsGraph.showGroupedBars(categories_size, platformsPairs_diff, 'categories size', 'categories size by pairs')"
   ]
  },
  {
   "cell_type": "markdown",
   "metadata": {},
   "source": [
    "Switch has least games in common with other platforms, and highest disparity with other plaforms as well --specially PS4. Switch community is much farther than other platforms' communities"
   ]
  },
  {
   "cell_type": "markdown",
   "metadata": {},
   "source": [
    "### Categorical Heatmap"
   ]
  },
  {
   "cell_type": "code",
   "execution_count": null,
   "metadata": {},
   "outputs": [],
   "source": [
    "categoriesSize_2dList = transform.ConstCategoriesSize_2dList(categories_size)"
   ]
  },
  {
   "cell_type": "code",
   "execution_count": null,
   "metadata": {},
   "outputs": [],
   "source": [
    "# take a look\n",
    "categoriesSize_2dList"
   ]
  },
  {
   "cell_type": "code",
   "execution_count": null,
   "metadata": {},
   "outputs": [],
   "source": [
    "categoricalHeatmapGraph.showCategoricalHeatmap(8, 8, categoriesSize_2dList, platformsPairs_diff, categories_size, \"categories size among platforms pairs\")"
   ]
  },
  {
   "cell_type": "markdown",
   "metadata": {},
   "source": [
    "## Compare a Game Among All Platforms, Not Just Pairs\n",
    "**First**, we match games common on all platforms where a game not found in one platform is discarded. That happens by initializing a set of indices to platformsPairs_df: ps4_xbox, indices of ps4 games available also on xbox. So, our set is ensured to contain both ps4 and xbox one games. we check whether our set contains any games not in switch. If any found, they get discarded. so our set is ensured to contain games in ps4, xbox one and switch. similarly, to PC. Note that if a game is in all of ps4, xbox one, switch, and PC, then certainly it is in (ps4, xbox one) pair, in (ps4, xbox one) pair, ..etc. As a result, if a game is on all platforms, then we are certain that our algorithm captures it. QED"
   ]
  },
  {
   "cell_type": "code",
   "execution_count": null,
   "metadata": {},
   "outputs": [],
   "source": [
    "# maps a string to its corresponding index. if string not found, -1 is returned\n",
    "def indexByTitle(string_in, platform_in):\n",
    "    # a list of resulted indices\n",
    "    temSer = platform_df[platform_in][platform_df[platform_in]['title'] == string_in]\n",
    "    # a unique index is found\n",
    "    if len(temSer) == 1:\n",
    "        return temSer.index[0]\n",
    "    # if no indices found\n",
    "    elif len(temSer) == 0:\n",
    "        return -1\n",
    "    else:\n",
    "        raise ValueError(\"unexpected no. titles\")"
   ]
  },
  {
   "cell_type": "code",
   "execution_count": null,
   "metadata": {},
   "outputs": [],
   "source": [
    "# test our function\n",
    "indexByTitle(\"blabla\", \"ps4\")"
   ]
  },
  {
   "cell_type": "code",
   "execution_count": null,
   "metadata": {},
   "outputs": [],
   "source": [
    "# initial, ps4 indices\n",
    "crossed_indices = platformsPairs_df['ps4_xbox']['ps4_index']\n",
    "# rename series\n",
    "crossed_indices.name ='crossed_index'\n",
    "\n",
    "# for each platform other than ps4\n",
    "for name in platformsNames:\n",
    "    if name != \"ps4\":\n",
    "        # games indices of the other platform\n",
    "        index = platformsPairs_df['ps4_'+name][name+'_index']\n",
    "        # corresponding titles of indices just computed\n",
    "        title = index.apply(lambda x: platform_df[name].loc[x, 'title'])\n",
    "        # corresponding indices in ps4 indices. -1 is returned if title is not found in ps4\n",
    "        index_ps4 = title.apply(lambda x: indexByTitle(x, 'ps4'))\n",
    "        # remove -1's\n",
    "        index_ps4 = index_ps4[index_ps4 != -1]\n",
    "        # filter crossed_indices to contain only indices found in the other platform \n",
    "        crossed_indices = crossed_indices[crossed_indices.isin(index_ps4)]"
   ]
  },
  {
   "cell_type": "code",
   "execution_count": null,
   "metadata": {},
   "outputs": [],
   "source": [
    "platformsPairs_df.keys()"
   ]
  },
  {
   "cell_type": "code",
   "execution_count": null,
   "metadata": {},
   "outputs": [],
   "source": [
    "# take a look at games titles\n",
    "crossed_indices.apply(lambda x: platform_df['ps4'].loc[x, 'title'])"
   ]
  },
  {
   "cell_type": "code",
   "execution_count": null,
   "metadata": {},
   "outputs": [],
   "source": [
    "# take a look at games number\n",
    "crossed_indices.describe()"
   ]
  },
  {
   "cell_type": "markdown",
   "metadata": {},
   "source": [
    "Only 36 games are returned, So analysis gets more focused on pairs of platforms. however, a similar procedure of platforms pairs could be followed in this case."
   ]
  },
  {
   "cell_type": "code",
   "execution_count": null,
   "metadata": {},
   "outputs": [],
   "source": []
  }
 ],
 "metadata": {
  "kernelspec": {
   "display_name": "Python 3",
   "language": "python",
   "name": "python3"
  },
  "language_info": {
   "codemirror_mode": {
    "name": "ipython",
    "version": 3
   },
   "file_extension": ".py",
   "mimetype": "text/x-python",
   "name": "python",
   "nbconvert_exporter": "python",
   "pygments_lexer": "ipython3",
   "version": "3.6.9"
  }
 },
 "nbformat": 4,
 "nbformat_minor": 4
}
